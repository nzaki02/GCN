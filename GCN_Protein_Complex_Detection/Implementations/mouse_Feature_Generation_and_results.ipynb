{
  "nbformat": 4,
  "nbformat_minor": 0,
  "metadata": {
    "colab": {
      "name": "mouse_Feature_Generation_and_results.ipynb",
      "provenance": [],
      "collapsed_sections": [],
      "toc_visible": true
    },
    "kernelspec": {
      "name": "python3",
      "display_name": "Python 3"
    }
  },
  "cells": [
    {
      "cell_type": "code",
      "metadata": {
        "id": "pCn5JrBTo65I",
        "colab": {
          "base_uri": "https://localhost:8080/"
        },
        "outputId": "8a878a71-a8d9-4b1e-ef82-35173f45132f"
      },
      "source": [
        "%tensorflow_version 1.x"
      ],
      "execution_count": 1,
      "outputs": [
        {
          "output_type": "stream",
          "text": [
            "TensorFlow 1.x selected.\n"
          ],
          "name": "stdout"
        }
      ]
    },
    {
      "cell_type": "code",
      "metadata": {
        "id": "ChjVuAWeGzIH",
        "colab": {
          "base_uri": "https://localhost:8080/"
        },
        "outputId": "a0c91f93-64c0-42b7-ff43-67883b5dc716"
      },
      "source": [
        "from google_drive_downloader import GoogleDriveDownloader as gdd\r\n",
        "\r\n",
        "gdd.download_file_from_google_drive(file_id='1rEHG_DS8ullcaZr4gI1gBBq9-X3TcTFH',\r\n",
        "                                    dest_path='/content/Original-Communities.txt')"
      ],
      "execution_count": 2,
      "outputs": [
        {
          "output_type": "stream",
          "text": [
            "Downloading 1rEHG_DS8ullcaZr4gI1gBBq9-X3TcTFH into /content/Original-Communities.txt... Done.\n"
          ],
          "name": "stdout"
        }
      ]
    },
    {
      "cell_type": "code",
      "metadata": {
        "colab": {
          "base_uri": "https://localhost:8080/"
        },
        "id": "X1ZeIf1hPZcY",
        "outputId": "475289fd-e408-4e32-a00e-4baff5eebfef"
      },
      "source": [
        "from google_drive_downloader import GoogleDriveDownloader as gdd\r\n",
        "\r\n",
        "gdd.download_file_from_google_drive(file_id='1RaMNOQeN1yjDVTbI2mlW6EXiS29a9mF9',\r\n",
        "                                    dest_path='/content/PPI-Net.txt')"
      ],
      "execution_count": 3,
      "outputs": [
        {
          "output_type": "stream",
          "text": [
            "Downloading 1RaMNOQeN1yjDVTbI2mlW6EXiS29a9mF9 into /content/PPI-Net.txt... Done.\n"
          ],
          "name": "stdout"
        }
      ]
    },
    {
      "cell_type": "code",
      "metadata": {
        "colab": {
          "base_uri": "https://localhost:8080/"
        },
        "id": "MxV5P0XRHWcK",
        "outputId": "460f8395-12e6-4b47-c3ee-231f16d754d7"
      },
      "source": [
        "from google_drive_downloader import GoogleDriveDownloader as gdd\r\n",
        "\r\n",
        "gdd.download_file_from_google_drive(file_id='17raGTKbLMLdeneMw1GB_MVBJVogaWPqK',\r\n",
        "                                    dest_path='/content/idencap.zip')"
      ],
      "execution_count": 4,
      "outputs": [
        {
          "output_type": "stream",
          "text": [
            "Downloading 17raGTKbLMLdeneMw1GB_MVBJVogaWPqK into /content/idencap.zip... Done.\n"
          ],
          "name": "stdout"
        }
      ]
    },
    {
      "cell_type": "code",
      "metadata": {
        "colab": {
          "base_uri": "https://localhost:8080/"
        },
        "id": "47PR7LIoHm52",
        "outputId": "8af1fe7f-f0cc-4ebe-8031-c838d48c1c65"
      },
      "source": [
        "!unzip /content/idencap.zip"
      ],
      "execution_count": 5,
      "outputs": [
        {
          "output_type": "stream",
          "text": [
            "Archive:  /content/idencap.zip\n",
            "  inflating: mouse-ppi.txt           \n",
            "  inflating: human-ppi.txt           \n",
            "  inflating: human-complexes.txt     \n",
            "  inflating: mouse-complexes.txt     \n"
          ],
          "name": "stdout"
        }
      ]
    },
    {
      "cell_type": "code",
      "metadata": {
        "id": "C7rsyX-pxcWA"
      },
      "source": [
        "import numpy as np\r\n",
        "import tensorflow as tf\r\n",
        "from sklearn.utils import shuffle\r\n",
        "import math\r\n",
        "from scipy import sparse\r\n",
        "import random\r\n",
        "#define path of graph file and communities file\r\n",
        "labelfile = '/content/mouse-complexes.txt'\r\n",
        "graphfile =  '/content/mouse-ppi.txt'\r\n",
        "#select number of communities with maximum members\r\n",
        "n = 623"
      ],
      "execution_count": 6,
      "outputs": []
    },
    {
      "cell_type": "code",
      "metadata": {
        "id": "Be6awm1d5He_"
      },
      "source": [
        "comm = []\r\n",
        "f = open(labelfile)\r\n",
        "for line in f:\r\n",
        "  for i in line.split():\r\n",
        "    if i not in comm:\r\n",
        "      comm.append(i)"
      ],
      "execution_count": 7,
      "outputs": []
    },
    {
      "cell_type": "code",
      "metadata": {
        "id": "EbnKb61A5MXO"
      },
      "source": [
        "def loadData(labelfile, graphfile):\r\n",
        "  data = []\r\n",
        "  n_communities = []\r\n",
        "  count = 0\r\n",
        "  #save all communities in list-data regardless of the order\r\n",
        "  with open(labelfile) as inputfile:\r\n",
        "      for line in inputfile:\r\n",
        "          data.append(line.split())\r\n",
        "  graph = {}\r\n",
        "  #save n communities with maximum members in list-n_communities keeping the decreasing order of length\r\n",
        "  # print(data)\r\n",
        "  for i in range(n):\r\n",
        "    # print(i)\r\n",
        "       p = max(data,key=len)\r\n",
        "       n_communities.append(p)\r\n",
        "       data.remove(p)\r\n",
        "  with open(graphfile) as inputfile:\r\n",
        "        for line in inputfile:\r\n",
        "            node = line.split()[0]#read 1st element in any column(node 1)\r\n",
        "            neigh = line.split()[1]#read 2nd element in any column(node 2)\r\n",
        "\r\n",
        "            #Not include those nodes, which are not in n_communities\r\n",
        "            g = 0\r\n",
        "            for i in range(n):\r\n",
        "              #  print(i)\r\n",
        "               if( node in n_communities[i]):\r\n",
        "                     g=1\r\n",
        "            if g==0:\r\n",
        "              count = count + 1\r\n",
        "              continue\r\n",
        "            g1=0\r\n",
        "            for i in range(len(n_communities)):\r\n",
        "               if( neigh in n_communities[i]):\r\n",
        "                     g1=1\r\n",
        "            if g1==0:\r\n",
        "              count = count + 1\r\n",
        "              continue\r\n",
        "            #save all the nodes and edges, which are common to the graphfile and n_communities\r\n",
        "            # if len(graph)>=500:\r\n",
        "            #    return n_communities, graph\r\n",
        "            # if node in comm:\r\n",
        "            #    if node in graph:\r\n",
        "            #        graph[node].add(neigh)\r\n",
        "            #    else:\r\n",
        "            #        graph[node] = {neigh}\r\n",
        "            # if neigh in comm:\r\n",
        "            #    if neigh in graph and neigh in comm:\r\n",
        "            #        graph[neigh].add(node)\r\n",
        "            #    else:\r\n",
        "            #        graph[neigh] = {node}\r\n",
        "            if node in graph:\r\n",
        "                graph[node].add(neigh)\r\n",
        "            else:\r\n",
        "                graph[node] = {neigh}\r\n",
        "            if neigh in graph:\r\n",
        "                graph[neigh].add(node)\r\n",
        "            else:\r\n",
        "                graph[neigh] = {node}\r\n",
        "  return n_communities, graph"
      ],
      "execution_count": 8,
      "outputs": []
    },
    {
      "cell_type": "code",
      "metadata": {
        "id": "14J1Ur3i5Qf5"
      },
      "source": [
        "def preprocessingData(graph, n_communities):\r\n",
        "  adj_matrix = np.zeros((len(graph), len(graph)))\r\n",
        "  node_index = {}\r\n",
        "  j = 0\r\n",
        "  for i in graph:\r\n",
        "    node_index[i] = j\r\n",
        "    j += 1\r\n",
        "  for i in node_index:\r\n",
        "    for j in graph[i]:\r\n",
        "      if(j in node_index):\r\n",
        "        adj_matrix[node_index[i]][node_index[j]] = 1\r\n",
        "  label = np.zeros((len(graph), n))\r\n",
        "  T = []\r\n",
        "  for nodeId in node_index:\r\n",
        "    u=[]\r\n",
        "    for i in n_communities:\r\n",
        "      if nodeId in i:\r\n",
        "        u.append(n_communities.index(i))\r\n",
        "    T.append(u)\r\n",
        "    label[node_index[nodeId]]=labeller(u)\r\n",
        "  return sparse.coo_matrix(adj_matrix),label,node_index,T"
      ],
      "execution_count": 9,
      "outputs": []
    },
    {
      "cell_type": "code",
      "metadata": {
        "id": "H75Q3vTF5T6-"
      },
      "source": [
        "def Degreematrix(graph, n_communities,node_index):\r\n",
        "  degree_matrix = np.zeros((len(graph), len(graph)))\r\n",
        "  for i in node_index:\r\n",
        "    degree_matrix[node_index[i]][node_index[i]] = len(graph[i])\r\n",
        "  return sparse.coo_matrix(degree_matrix)"
      ],
      "execution_count": 10,
      "outputs": []
    },
    {
      "cell_type": "code",
      "metadata": {
        "id": "9yU80Fv_5ZLF"
      },
      "source": [
        "def labeller(pos):\r\n",
        "  p = [0]*n\r\n",
        "  for i in pos:\r\n",
        "     p[i]=1\r\n",
        "  return  p"
      ],
      "execution_count": 11,
      "outputs": []
    },
    {
      "cell_type": "code",
      "metadata": {
        "id": "qtBxEp0AgMLc"
      },
      "source": [
        "n_communities,graph = loadData(labelfile, graphfile)"
      ],
      "execution_count": 12,
      "outputs": []
    },
    {
      "cell_type": "code",
      "metadata": {
        "id": "orlAu7v0tg1v"
      },
      "source": [
        "adj_matrix, label,nd,T = preprocessingData(graph, n_communities)"
      ],
      "execution_count": 13,
      "outputs": []
    },
    {
      "cell_type": "code",
      "metadata": {
        "id": "0KuUQEbtRszy"
      },
      "source": [
        "degree_matrix = Degreematrix(graph, n_communities,nd)"
      ],
      "execution_count": 14,
      "outputs": []
    },
    {
      "cell_type": "code",
      "metadata": {
        "id": "taUGfAWatmDU"
      },
      "source": [
        "feature_matrix = sparse.coo_matrix(np.eye(len(graph)))\r\n",
        "adj_matrix = adj_matrix + feature_matrix"
      ],
      "execution_count": 15,
      "outputs": []
    },
    {
      "cell_type": "code",
      "metadata": {
        "colab": {
          "base_uri": "https://localhost:8080/"
        },
        "id": "z45CzcmBMIXA",
        "outputId": "378f1311-9a37-4e3d-cab1-161c749c7012"
      },
      "source": [
        "from scipy import sparse\r\n",
        "d = sparse.linalg.inv(degree_matrix)\r\n",
        "d.data = np.sqrt(d.data)\r\n",
        "normalized_adjecency = sparse.coo_matrix(d.multiply(adj_matrix.multiply(d)))"
      ],
      "execution_count": 16,
      "outputs": [
        {
          "output_type": "stream",
          "text": [
            "/usr/local/lib/python3.7/dist-packages/scipy/sparse/linalg/dsolve/linsolve.py:138: SparseEfficiencyWarning: spsolve requires A be CSC or CSR matrix format\n",
            "  SparseEfficiencyWarning)\n",
            "/usr/local/lib/python3.7/dist-packages/scipy/sparse/linalg/dsolve/linsolve.py:208: SparseEfficiencyWarning: spsolve is more efficient when sparse b is in the CSC matrix format\n",
            "  'is in the CSC matrix format', SparseEfficiencyWarning)\n"
          ],
          "name": "stderr"
        }
      ]
    },
    {
      "cell_type": "code",
      "metadata": {
        "id": "Y2zzGPUqTIR1"
      },
      "source": [
        "del adj_matrix\r\n",
        "del degree_matrix\r\n"
      ],
      "execution_count": 17,
      "outputs": []
    },
    {
      "cell_type": "code",
      "metadata": {
        "id": "56xnBEzjtvJt"
      },
      "source": [
        "train_index = []\r\n",
        "for i in range(len(graph)):\r\n",
        "    train_index.append(i)"
      ],
      "execution_count": 18,
      "outputs": []
    },
    {
      "cell_type": "code",
      "metadata": {
        "id": "coAulRndReS1"
      },
      "source": [
        "p = label.astype(\"int32\").tolist()"
      ],
      "execution_count": 19,
      "outputs": []
    },
    {
      "cell_type": "code",
      "metadata": {
        "id": "zVPsecGnRuDM"
      },
      "source": [
        "K= []\r\n",
        "for i in p:\r\n",
        "  K.append(tuple(i))"
      ],
      "execution_count": 20,
      "outputs": []
    },
    {
      "cell_type": "code",
      "metadata": {
        "id": "qXpqLuaGTCNf"
      },
      "source": [
        "Gk = {}\r\n",
        "count = 0\r\n",
        "for i in set(K):\r\n",
        "  Gk[i] = count\r\n",
        "  count = count + 1"
      ],
      "execution_count": 21,
      "outputs": []
    },
    {
      "cell_type": "code",
      "metadata": {
        "id": "0-Dlrhudg5mQ"
      },
      "source": [
        "labels = []\r\n",
        "for i in p:\r\n",
        "  h = [0]*count\r\n",
        "  h[Gk[tuple(i)]] = 1\r\n",
        "  labels.append(h)"
      ],
      "execution_count": 22,
      "outputs": []
    },
    {
      "cell_type": "code",
      "metadata": {
        "id": "EemQs53y0zBv"
      },
      "source": [
        "\r\n",
        "features = tf.sparse_placeholder(tf.float32,shape=[len(graph),len(graph)])\r\n",
        "y = tf.sparse_placeholder(tf.float32,shape = [len(graph),len(graph)])\r\n",
        "label1 = tf.placeholder(tf.float32, shape = ((len(graph),count)))\r\n",
        "weights1 = tf.Variable(tf.random_normal([len(graph),512], stddev = 1))\r\n",
        "weights2 = tf.Variable(tf.random_normal([512,count], stddev = 1))\r\n",
        "trainIndex = tf.placeholder(tf.int32, shape = ((len(train_index))))\r\n",
        "#Defining GCN layer"
      ],
      "execution_count": 23,
      "outputs": []
    },
    {
      "cell_type": "code",
      "metadata": {
        "id": "rIR0MdEUQdeg"
      },
      "source": [
        "def dot(x, y, sparse=False):\r\n",
        "         if sparse:\r\n",
        "             res = tf.sparse_tensor_dense_matmul(x, y)\r\n",
        "         else:\r\n",
        "             res = tf.matmul(x, y)\r\n",
        "         return res\r\n",
        "def layer(features, y,sparse, weights):\r\n",
        "        with tf.name_scope('gcn_layer'):\r\n",
        "            kernel = dot(features, weights,sparse)\r\n",
        "            return tf.nn.relu(dot(y, kernel,True))\r\n"
      ],
      "execution_count": 24,
      "outputs": []
    },
    {
      "cell_type": "code",
      "metadata": {
        "id": "WlA4kbbTy46I"
      },
      "source": [
        "adj_coo_matrix = tf.SparseTensorValue(\r\n",
        "    indices=np.array([normalized_adjecency.row, normalized_adjecency.col]).T,\r\n",
        "    values=normalized_adjecency.data,\r\n",
        "    dense_shape=normalized_adjecency._shape)"
      ],
      "execution_count": 25,
      "outputs": []
    },
    {
      "cell_type": "code",
      "metadata": {
        "id": "tp-0S7Wly65W"
      },
      "source": [
        "feature_coo_matrix = tf.SparseTensorValue(\r\n",
        "    indices=np.array([feature_matrix.row, feature_matrix.col]).T,\r\n",
        "    values=feature_matrix.data,\r\n",
        "    dense_shape=feature_matrix._shape)"
      ],
      "execution_count": 26,
      "outputs": []
    },
    {
      "cell_type": "code",
      "metadata": {
        "colab": {
          "base_uri": "https://localhost:8080/"
        },
        "id": "3Lk0yf6RQg2D",
        "outputId": "d207aeb5-4fee-4539-f794-3775934ad96f"
      },
      "source": [
        "#Building with GCN layer     \r\n",
        "hidden1 = layer(features,y,True, weights1)\r\n",
        "hidden1 = tf.layers.dropout(hidden1, rate=0.5)\r\n",
        "model = layer(hidden1,y,False,weights2)\r\n",
        "training_output = tf.gather(model, trainIndex)"
      ],
      "execution_count": 27,
      "outputs": [
        {
          "output_type": "stream",
          "text": [
            "WARNING:tensorflow:From <ipython-input-27-5029a557554f>:3: dropout (from tensorflow.python.layers.core) is deprecated and will be removed in a future version.\n",
            "Instructions for updating:\n",
            "Use keras.layers.dropout instead.\n",
            "WARNING:tensorflow:From /tensorflow-1.15.2/python3.7/tensorflow_core/python/layers/core.py:271: Layer.apply (from tensorflow.python.keras.engine.base_layer) is deprecated and will be removed in a future version.\n",
            "Instructions for updating:\n",
            "Please use `layer.__call__` method instead.\n"
          ],
          "name": "stdout"
        }
      ]
    },
    {
      "cell_type": "code",
      "metadata": {
        "id": "UTJ0FVotQj3C",
        "colab": {
          "base_uri": "https://localhost:8080/"
        },
        "outputId": "5dace489-7820-4cd4-937d-22662d5a8e13"
      },
      "source": [
        "#Defining loss function and optimizer\r\n",
        "with tf.name_scope('loss'):\r\n",
        "        loss = tf.reduce_mean(tf.nn.softmax_cross_entropy_with_logits(logits = training_output, labels = np.array(labels)))\r\n",
        "        train_op = tf.train.AdamOptimizer(0.01, 0.90).minimize(loss)"
      ],
      "execution_count": 28,
      "outputs": [
        {
          "output_type": "stream",
          "text": [
            "WARNING:tensorflow:From <ipython-input-28-2c21f875ebd7>:3: softmax_cross_entropy_with_logits (from tensorflow.python.ops.nn_ops) is deprecated and will be removed in a future version.\n",
            "Instructions for updating:\n",
            "\n",
            "Future major versions of TensorFlow will allow gradients to flow\n",
            "into the labels input on backprop by default.\n",
            "\n",
            "See `tf.nn.softmax_cross_entropy_with_logits_v2`.\n",
            "\n"
          ],
          "name": "stdout"
        }
      ]
    },
    {
      "cell_type": "code",
      "metadata": {
        "colab": {
          "base_uri": "https://localhost:8080/"
        },
        "id": "A4pqMJE2QQR6",
        "outputId": "dd5f8971-e940-4bf5-d54e-49edccfe766d"
      },
      "source": [
        "#creating session\r\n",
        "init = tf.global_variables_initializer()\r\n",
        "sess = tf.Session()\r\n",
        "sess.run(init)\r\n",
        "\r\n",
        "#training up to 2000 epochs\r\n",
        "for i in range(400):\r\n",
        "        _, cost = sess.run([train_op, loss], feed_dict = {y:adj_coo_matrix,features:feature_coo_matrix, label1: np.array(labels), trainIndex: train_index})\r\n",
        "        if(i%1 == 0):\r\n",
        "            output= sess.run(model, feed_dict = {y:adj_coo_matrix,features:feature_coo_matrix,label1: np.array(labels)})\r\n",
        "            predict = sess.run(tf.nn.softmax(model), feed_dict = {y:adj_coo_matrix,features:feature_coo_matrix,label1: np.array(labels)})\r\n",
        "        print(\"epoch:\",i) "
      ],
      "execution_count": 29,
      "outputs": [
        {
          "output_type": "stream",
          "text": [
            "epoch: 0\n",
            "epoch: 1\n",
            "epoch: 2\n",
            "epoch: 3\n",
            "epoch: 4\n",
            "epoch: 5\n",
            "epoch: 6\n",
            "epoch: 7\n",
            "epoch: 8\n",
            "epoch: 9\n",
            "epoch: 10\n",
            "epoch: 11\n",
            "epoch: 12\n",
            "epoch: 13\n",
            "epoch: 14\n",
            "epoch: 15\n",
            "epoch: 16\n",
            "epoch: 17\n",
            "epoch: 18\n",
            "epoch: 19\n",
            "epoch: 20\n",
            "epoch: 21\n",
            "epoch: 22\n",
            "epoch: 23\n",
            "epoch: 24\n",
            "epoch: 25\n",
            "epoch: 26\n",
            "epoch: 27\n",
            "epoch: 28\n",
            "epoch: 29\n",
            "epoch: 30\n",
            "epoch: 31\n",
            "epoch: 32\n",
            "epoch: 33\n",
            "epoch: 34\n",
            "epoch: 35\n",
            "epoch: 36\n",
            "epoch: 37\n",
            "epoch: 38\n",
            "epoch: 39\n",
            "epoch: 40\n",
            "epoch: 41\n",
            "epoch: 42\n",
            "epoch: 43\n",
            "epoch: 44\n",
            "epoch: 45\n",
            "epoch: 46\n",
            "epoch: 47\n",
            "epoch: 48\n",
            "epoch: 49\n",
            "epoch: 50\n",
            "epoch: 51\n",
            "epoch: 52\n",
            "epoch: 53\n",
            "epoch: 54\n",
            "epoch: 55\n",
            "epoch: 56\n",
            "epoch: 57\n",
            "epoch: 58\n",
            "epoch: 59\n",
            "epoch: 60\n",
            "epoch: 61\n",
            "epoch: 62\n",
            "epoch: 63\n",
            "epoch: 64\n",
            "epoch: 65\n",
            "epoch: 66\n",
            "epoch: 67\n",
            "epoch: 68\n",
            "epoch: 69\n",
            "epoch: 70\n",
            "epoch: 71\n",
            "epoch: 72\n",
            "epoch: 73\n",
            "epoch: 74\n",
            "epoch: 75\n",
            "epoch: 76\n",
            "epoch: 77\n",
            "epoch: 78\n",
            "epoch: 79\n",
            "epoch: 80\n",
            "epoch: 81\n",
            "epoch: 82\n",
            "epoch: 83\n",
            "epoch: 84\n",
            "epoch: 85\n",
            "epoch: 86\n",
            "epoch: 87\n",
            "epoch: 88\n",
            "epoch: 89\n",
            "epoch: 90\n",
            "epoch: 91\n",
            "epoch: 92\n",
            "epoch: 93\n",
            "epoch: 94\n",
            "epoch: 95\n",
            "epoch: 96\n",
            "epoch: 97\n",
            "epoch: 98\n",
            "epoch: 99\n",
            "epoch: 100\n",
            "epoch: 101\n",
            "epoch: 102\n",
            "epoch: 103\n",
            "epoch: 104\n",
            "epoch: 105\n",
            "epoch: 106\n",
            "epoch: 107\n",
            "epoch: 108\n",
            "epoch: 109\n",
            "epoch: 110\n",
            "epoch: 111\n",
            "epoch: 112\n",
            "epoch: 113\n",
            "epoch: 114\n",
            "epoch: 115\n",
            "epoch: 116\n",
            "epoch: 117\n",
            "epoch: 118\n",
            "epoch: 119\n",
            "epoch: 120\n",
            "epoch: 121\n",
            "epoch: 122\n",
            "epoch: 123\n",
            "epoch: 124\n",
            "epoch: 125\n",
            "epoch: 126\n",
            "epoch: 127\n",
            "epoch: 128\n",
            "epoch: 129\n",
            "epoch: 130\n",
            "epoch: 131\n",
            "epoch: 132\n",
            "epoch: 133\n",
            "epoch: 134\n",
            "epoch: 135\n",
            "epoch: 136\n",
            "epoch: 137\n",
            "epoch: 138\n",
            "epoch: 139\n",
            "epoch: 140\n",
            "epoch: 141\n",
            "epoch: 142\n",
            "epoch: 143\n",
            "epoch: 144\n",
            "epoch: 145\n",
            "epoch: 146\n",
            "epoch: 147\n",
            "epoch: 148\n",
            "epoch: 149\n",
            "epoch: 150\n",
            "epoch: 151\n",
            "epoch: 152\n",
            "epoch: 153\n",
            "epoch: 154\n",
            "epoch: 155\n",
            "epoch: 156\n",
            "epoch: 157\n",
            "epoch: 158\n",
            "epoch: 159\n",
            "epoch: 160\n",
            "epoch: 161\n",
            "epoch: 162\n",
            "epoch: 163\n",
            "epoch: 164\n",
            "epoch: 165\n",
            "epoch: 166\n",
            "epoch: 167\n",
            "epoch: 168\n",
            "epoch: 169\n",
            "epoch: 170\n",
            "epoch: 171\n",
            "epoch: 172\n",
            "epoch: 173\n",
            "epoch: 174\n",
            "epoch: 175\n",
            "epoch: 176\n",
            "epoch: 177\n",
            "epoch: 178\n",
            "epoch: 179\n",
            "epoch: 180\n",
            "epoch: 181\n",
            "epoch: 182\n",
            "epoch: 183\n",
            "epoch: 184\n",
            "epoch: 185\n",
            "epoch: 186\n",
            "epoch: 187\n",
            "epoch: 188\n",
            "epoch: 189\n",
            "epoch: 190\n",
            "epoch: 191\n",
            "epoch: 192\n",
            "epoch: 193\n",
            "epoch: 194\n",
            "epoch: 195\n",
            "epoch: 196\n",
            "epoch: 197\n",
            "epoch: 198\n",
            "epoch: 199\n",
            "epoch: 200\n",
            "epoch: 201\n",
            "epoch: 202\n",
            "epoch: 203\n",
            "epoch: 204\n",
            "epoch: 205\n",
            "epoch: 206\n",
            "epoch: 207\n",
            "epoch: 208\n",
            "epoch: 209\n",
            "epoch: 210\n",
            "epoch: 211\n",
            "epoch: 212\n",
            "epoch: 213\n",
            "epoch: 214\n",
            "epoch: 215\n",
            "epoch: 216\n",
            "epoch: 217\n",
            "epoch: 218\n",
            "epoch: 219\n",
            "epoch: 220\n",
            "epoch: 221\n",
            "epoch: 222\n",
            "epoch: 223\n",
            "epoch: 224\n",
            "epoch: 225\n",
            "epoch: 226\n",
            "epoch: 227\n",
            "epoch: 228\n",
            "epoch: 229\n",
            "epoch: 230\n",
            "epoch: 231\n",
            "epoch: 232\n",
            "epoch: 233\n",
            "epoch: 234\n",
            "epoch: 235\n",
            "epoch: 236\n",
            "epoch: 237\n",
            "epoch: 238\n",
            "epoch: 239\n",
            "epoch: 240\n",
            "epoch: 241\n",
            "epoch: 242\n",
            "epoch: 243\n",
            "epoch: 244\n",
            "epoch: 245\n",
            "epoch: 246\n",
            "epoch: 247\n",
            "epoch: 248\n",
            "epoch: 249\n",
            "epoch: 250\n",
            "epoch: 251\n",
            "epoch: 252\n",
            "epoch: 253\n",
            "epoch: 254\n",
            "epoch: 255\n",
            "epoch: 256\n",
            "epoch: 257\n",
            "epoch: 258\n",
            "epoch: 259\n",
            "epoch: 260\n",
            "epoch: 261\n",
            "epoch: 262\n",
            "epoch: 263\n",
            "epoch: 264\n",
            "epoch: 265\n",
            "epoch: 266\n",
            "epoch: 267\n",
            "epoch: 268\n",
            "epoch: 269\n",
            "epoch: 270\n",
            "epoch: 271\n",
            "epoch: 272\n",
            "epoch: 273\n",
            "epoch: 274\n",
            "epoch: 275\n",
            "epoch: 276\n",
            "epoch: 277\n",
            "epoch: 278\n",
            "epoch: 279\n",
            "epoch: 280\n",
            "epoch: 281\n",
            "epoch: 282\n",
            "epoch: 283\n",
            "epoch: 284\n",
            "epoch: 285\n",
            "epoch: 286\n",
            "epoch: 287\n",
            "epoch: 288\n",
            "epoch: 289\n",
            "epoch: 290\n",
            "epoch: 291\n",
            "epoch: 292\n",
            "epoch: 293\n",
            "epoch: 294\n",
            "epoch: 295\n",
            "epoch: 296\n",
            "epoch: 297\n",
            "epoch: 298\n",
            "epoch: 299\n",
            "epoch: 300\n",
            "epoch: 301\n",
            "epoch: 302\n",
            "epoch: 303\n",
            "epoch: 304\n",
            "epoch: 305\n",
            "epoch: 306\n",
            "epoch: 307\n",
            "epoch: 308\n",
            "epoch: 309\n",
            "epoch: 310\n",
            "epoch: 311\n",
            "epoch: 312\n",
            "epoch: 313\n",
            "epoch: 314\n",
            "epoch: 315\n",
            "epoch: 316\n",
            "epoch: 317\n",
            "epoch: 318\n",
            "epoch: 319\n",
            "epoch: 320\n",
            "epoch: 321\n",
            "epoch: 322\n",
            "epoch: 323\n",
            "epoch: 324\n",
            "epoch: 325\n",
            "epoch: 326\n",
            "epoch: 327\n",
            "epoch: 328\n",
            "epoch: 329\n",
            "epoch: 330\n",
            "epoch: 331\n",
            "epoch: 332\n",
            "epoch: 333\n",
            "epoch: 334\n",
            "epoch: 335\n",
            "epoch: 336\n",
            "epoch: 337\n",
            "epoch: 338\n",
            "epoch: 339\n",
            "epoch: 340\n",
            "epoch: 341\n",
            "epoch: 342\n",
            "epoch: 343\n",
            "epoch: 344\n",
            "epoch: 345\n",
            "epoch: 346\n",
            "epoch: 347\n",
            "epoch: 348\n",
            "epoch: 349\n",
            "epoch: 350\n",
            "epoch: 351\n",
            "epoch: 352\n",
            "epoch: 353\n",
            "epoch: 354\n",
            "epoch: 355\n",
            "epoch: 356\n",
            "epoch: 357\n",
            "epoch: 358\n",
            "epoch: 359\n",
            "epoch: 360\n",
            "epoch: 361\n",
            "epoch: 362\n",
            "epoch: 363\n",
            "epoch: 364\n",
            "epoch: 365\n",
            "epoch: 366\n",
            "epoch: 367\n",
            "epoch: 368\n",
            "epoch: 369\n",
            "epoch: 370\n",
            "epoch: 371\n",
            "epoch: 372\n",
            "epoch: 373\n",
            "epoch: 374\n",
            "epoch: 375\n",
            "epoch: 376\n",
            "epoch: 377\n",
            "epoch: 378\n",
            "epoch: 379\n",
            "epoch: 380\n",
            "epoch: 381\n",
            "epoch: 382\n",
            "epoch: 383\n",
            "epoch: 384\n",
            "epoch: 385\n",
            "epoch: 386\n",
            "epoch: 387\n",
            "epoch: 388\n",
            "epoch: 389\n",
            "epoch: 390\n",
            "epoch: 391\n",
            "epoch: 392\n",
            "epoch: 393\n",
            "epoch: 394\n",
            "epoch: 395\n",
            "epoch: 396\n",
            "epoch: 397\n",
            "epoch: 398\n",
            "epoch: 399\n"
          ],
          "name": "stdout"
        }
      ]
    },
    {
      "cell_type": "code",
      "metadata": {
        "id": "g6XBLGNBdNE8"
      },
      "source": [
        "K = []\r\n",
        "for i in range(len(T)):\r\n",
        "  l = []\r\n",
        "  for j in range(len(T[i])):\r\n",
        "    l.append(T[i][j]+1)\r\n",
        "  K.append(l)"
      ],
      "execution_count": 30,
      "outputs": []
    },
    {
      "cell_type": "code",
      "metadata": {
        "id": "dXihjxLanmNC"
      },
      "source": [
        "for i in range(len(K)):\r\n",
        "  for j in range(10):\r\n",
        "    if len(K[i])!=10:\r\n",
        "      K[i].append(0)"
      ],
      "execution_count": 31,
      "outputs": []
    },
    {
      "cell_type": "code",
      "metadata": {
        "id": "vd02g3uPW5fF"
      },
      "source": [
        "output1 = []\r\n",
        "for i in output:\r\n",
        "  output1.append(list(i))"
      ],
      "execution_count": 32,
      "outputs": []
    },
    {
      "cell_type": "code",
      "metadata": {
        "id": "PzD1Dao2kT6l"
      },
      "source": [
        "X_train = np.array(output1)"
      ],
      "execution_count": 33,
      "outputs": []
    },
    {
      "cell_type": "code",
      "metadata": {
        "id": "E_UWAwxFo2sL"
      },
      "source": [
        "y_train = []\r\n",
        "for i in K:\r\n",
        "  L = [0]*n\r\n",
        "  for j in i:\r\n",
        "    if j>0:\r\n",
        "      L[j-1] = 1\r\n",
        "  y_train.append(L)"
      ],
      "execution_count": 34,
      "outputs": []
    },
    {
      "cell_type": "markdown",
      "metadata": {
        "id": "2hlK92XRnRoR"
      },
      "source": [
        "# **AffinityPropagation**"
      ]
    },
    {
      "cell_type": "code",
      "metadata": {
        "id": "r8T6xSI7rjg6"
      },
      "source": [
        "method = \"AffinityPropagation_\""
      ],
      "execution_count": 35,
      "outputs": []
    },
    {
      "cell_type": "code",
      "metadata": {
        "id": "sRBPywUyJMj_"
      },
      "source": [
        "from numpy import unique\r\n",
        "from numpy import where\r\n",
        "from sklearn.datasets import make_classification\r\n",
        "from sklearn.cluster import AffinityPropagation\r\n",
        "from matplotlib import pyplot\r\n",
        "# define dataset\r\n",
        "model = AffinityPropagation(damping=0.9)\r\n",
        "# fit the model\r\n",
        "model.fit(X_train)\r\n",
        "# assign a cluster to each example\r\n",
        "yhat = model.predict(X_train)\r\n",
        "# retrieve unique clusters\r\n",
        "clusters = unique(yhat)"
      ],
      "execution_count": 36,
      "outputs": []
    },
    {
      "cell_type": "code",
      "metadata": {
        "id": "4o0fYrutNQpB"
      },
      "source": [
        "A = []\r\n",
        "for i in range(max(list(yhat))):\r\n",
        "  A.append([])\r\n",
        "for i in range(len(list(yhat))):\r\n",
        "  A[list(yhat)[i]-1].append(i)"
      ],
      "execution_count": 37,
      "outputs": []
    },
    {
      "cell_type": "code",
      "metadata": {
        "id": "r7OQhD4DopP9"
      },
      "source": [
        "G={}\r\n",
        "for i in range(len(list(y_train))):\r\n",
        "  G[i] = [j for j,x in enumerate(list(y_train[i])) if x == 1]\r\n",
        "final_L = []\r\n",
        "for i in range(n):\r\n",
        "  final_L.append([])\r\n",
        "for i in G:\r\n",
        "  for j in G[i]:\r\n",
        "    final_L[j].append(i)\r\n",
        "with open(str(n) +'_original_communities.txt', 'w') as file:\r\n",
        "    for item in final_L:\r\n",
        "      for o in item:\r\n",
        "            file.write(\"%s\" % o + \"\\t\")\r\n",
        "      file.write(\"\\n\")"
      ],
      "execution_count": 38,
      "outputs": []
    },
    {
      "cell_type": "code",
      "metadata": {
        "id": "s4LaNj4KKh1Z"
      },
      "source": [
        "g = open(\"/content/\" +str(n) +\"_original_communities_result.txt\",\"w\")\r\n",
        "for i in A:\r\n",
        "  for j in i:\r\n",
        "    g.write(str(j) +\"\\t\")\r\n",
        "  g.write(\"\\n\")\r\n",
        "g.close()"
      ],
      "execution_count": 39,
      "outputs": []
    },
    {
      "cell_type": "code",
      "metadata": {
        "id": "JyQQRumJmDT5"
      },
      "source": [
        "f = open(\"/content/\" +str(n) +\"_original_communities_result.txt\",\"r\")\r\n",
        "g = open(\"/content/\" + method +str(n) +\"_original_communities_result.txt\",\"w\")\r\n",
        "for line in f:\r\n",
        "  for i in line.split():\r\n",
        "    g.write(list(nd.keys())[int(i)] +\"\\t\")\r\n",
        "  g.write(\"\\n\")\r\n",
        "g.close()\r\n",
        "f.close()"
      ],
      "execution_count": 40,
      "outputs": []
    },
    {
      "cell_type": "markdown",
      "metadata": {
        "id": "hVayz5eqo4jm"
      },
      "source": [
        "# ***Evaluation Metrics***"
      ]
    },
    {
      "cell_type": "code",
      "metadata": {
        "colab": {
          "base_uri": "https://localhost:8080/"
        },
        "id": "EASz_vJao4jt",
        "outputId": "d1e4bfe1-cf19-403f-da4f-a53a815caa6d"
      },
      "source": [
        "L = []\r\n",
        "g = open(\"/content/\" +str(n) +\"_original_communities.txt\",\"r\")\r\n",
        "for line in g:\r\n",
        "  if len(line.split())>0:\r\n",
        "     L.append(line.split())\r\n",
        "print(len(L))"
      ],
      "execution_count": 41,
      "outputs": [
        {
          "output_type": "stream",
          "text": [
            "468\n"
          ],
          "name": "stdout"
        }
      ]
    },
    {
      "cell_type": "markdown",
      "metadata": {
        "id": "d0ZV6gqro4jw"
      },
      "source": [
        "Total Predicted Complexes"
      ]
    },
    {
      "cell_type": "code",
      "metadata": {
        "colab": {
          "base_uri": "https://localhost:8080/"
        },
        "id": "5TQ5CVEHo4jx",
        "outputId": "0788b932-5488-457c-df73-54042776a23a"
      },
      "source": [
        "R = []\r\n",
        "g = open(\"/content/\" +str(n) +\"_original_communities_result.txt\",\"r\")\r\n",
        "for line in g:\r\n",
        "  if len(line.split())>0:\r\n",
        "     R.append(line.split())\r\n",
        "print(len(R))"
      ],
      "execution_count": 42,
      "outputs": [
        {
          "output_type": "stream",
          "text": [
            "128\n"
          ],
          "name": "stdout"
        }
      ]
    },
    {
      "cell_type": "markdown",
      "metadata": {
        "id": "BIJC-Agpo4jy"
      },
      "source": [
        "Checking for Overlapping Scores and calculating number of matching sets\r\n",
        "\r\n",
        "![image.png](data:image/png;base64,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)\r\n",
        "\r\n",
        "![image.png](data:image/png;base64,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)\r\n",
        "\r\n",
        "![image.png](data:image/png;base64,iVBORw0KGgoAAAANSUhEUgAAAJ4AAAAlCAYAAACziFDNAAAKuUlEQVR4Ae1a7UtbWRo/f8D5ko9+EAohkA/CUkI+VIZBP1S2BFKhSHEowZaKFlZiF8Zsl5opqC3bFNqEVjszDVOD3abbXDIQu2OLmaWyaBkz25Q1dLJDy2rbzKq1VrIhNtH7W25yT7xvuWpn1A57Bbkvufd5nvM7v/O8nUtg/BkI7AECZA90GioNBGAQzyDBniBgEG9PYDeUGsQzOLAnCBjE2xPYDaUG8QwO7AkCBvH2BHZDqUE8gwN7gsAuE28Vmfif4LR8jM7QE2T5PRmzofQDQGB3icc/R7jVDEIISN15TOUM5n0AHNgTE3aXeFhDNnUX3s5PEXj4EsU9GfL/udLia8zErsLT7oSN1sDmOAlP4GskF1a3CQyP4nIa8eHzcB9tgJlY0NDSAY//Diaer2Azl7LLxNvm2D7Ux/l/I3a6CeaaM4ivrH+oVqrtKr7AuPcQKLHC0X0ZochdhPyn4TBTEEs7gjNvNyVMWSiPYuYBvI21ILQerr4vEOYkssytCCSWdGUZxFNPz+Z31p8i2FQD8qsiXhYzQ0dBiQ2dd9LIV1zSOvLP/oJOCwVtvIjJN2ubj7+QQvDwPhDagkByWUIwHsVXMXRbKejBAJI6qZRBvM1hVj/xKyQevzQOj0CIw0GkCxXWiWPLIR38BJSY0Rp+LiGSeugAj9zUedQRCqtnHEtKUcgi6XeAEAf8yayWgNK9XSLeOlbiZ1AjFBXif01PHCsKs/j8SySiATH/EJ4VchAX3N6rGBl7goWiapQKCcLlOvKZBKKBM2h32EAFfdQGh8sN7+AtjCXnNXLLVSwkv0bA40KDEHaEfMX1BwSij+U6GeEk42DjEY5aY5IbWER2NoGxkSvwdLSIuijMDa1w9w8jnl7SsA0An0MmEUXAcxIOW00JQ2pzwOU+h8GR+1vIz9axMnEOVh1i8bNhtFICU2cM87owF5CZ+Ao+3xWMJF5rkDSPdLAFhNjQE1+UD19ytUvE41GYe4QoxyEy5IZda5LyKYTa9pdzht6rCEU4cFwE4eAFdDTUbjGs8cinR9AmhA27C72DIUQ4Qc5tBC92ooFqkIN/i5lgOyyEwtLSixvhCLjIMPzdTphJLRq9D5BhhOeXkLofBRe5BrfdBGJ3Y6hkp6CDQ3RqDgUJuKpTRlxzEzq8bIwcIsMX0GavAaGH4ZtW5kZZpEMdsJAa2F29GAzdLeniwjdwsaOxFDr1Jrhswxa80LvH8NebfoFuwzKm+htASAuC6bwKAnZjE+IJniAK36k2dN9+CrkYYZIjOH3UjaHJV9orlWmRHNfTQTSpiLeGpfhZWMk+HA6mFJO3iHiPbWvE4+cR99SD0E8QTOckWgGsxNFToyQej1wygINUQTDhzQohbTgVm5OvbDZJTUGkt1NbMOKp3uNRSAdxWMPjVA+RLIroe5YSCPxLxDrrQExuxOar9BLYM/QEwrPv5Nht46pib9N1zLyr7jqrE6/4CpOB47DQQ/COv6hCLB65xCUcoA4MTC7KJ6eKsdrEY+65Dp2xlwo5ecxNjYKLPsKcKjdRKGETqwVwYQ5TUYVXYkS1nkV8SSOpzn0H3wETaGsYs1IMRRITFYEU9igvmce8n8KyVJ7wHLNd0d9keKlDIIsio5iak7sEpdqKbN1iSFzgm3gqlWzZjY0CRrVYZc+hyoeg/Fv88/oxmEgDPGNzIul4FJ7H4HUdw++5Hze80loS/v0UtDmEZ1tY/QxIeT7EElYC2ngGtyd/QCZbZWUqBiC/ZG6+Fo2eW5hMZ5BlYVL+YPkqN4n+OqqT11Txtu9LPC0b2D1GPCU5RBsJ/S08t/+OdCZbxQkwQRrHarJlj/5c4q0hm7wGJ6WwtI0gvVE2y7SwCw2Px8KPsmphhhGY3GNYYhIwB85lBqFdiC1oeI3Kc+UTbeIJoW0e09dPwU5ZAVJubvb4vsJo4qWk/FcIVFzyi49wveOjclHBCot2D3zBe0hkcjJvyhJqaYGgea4MPz+LeELx8w+MjQxioKcTrmMO2CpjJhopRRGL01+iQ8gBxaKG2pxo7/EhOPo9MvktrHa2Y6QVCRh+LNQqic9+1z1K+nqWUwg/U6Q5Gu+qicfPgjtuVedJomcjxIrj3KxkAn8h4pWMW0d+MY2pb25h0NuFow0WEWyNHExjMJVbfB6L6Uf4ZuQqvO5WsXoUqlt52sAWgamlH38uFSHlIkEoFOT/40gtSxbVexNvFZnxPjRSAmpvQ9+NMGLxSSQSCSS+i6D3gAmkPoCkRm7E5xeQnvorRgbPiTsF5QVKG/swntls14FFAp0WB8tbq+ivYKs6kZBuGymXmnhLY3CbCFT5y0IMHcLKtJ7DhLRb/98J9NZqPK8ysHyDTbY81FZ5WCBQ6gH8rv0gpB6e+LyE8FXe0bjN5+eRGg/AZaEgknyOn4+h00TUOZyGDNmt9yWeGDbpwcuYXpEQWRDOJn5LeaOwQFMY9x8vVePa/TSpxUXMx9wwbdpOobD2PlS1uaSS5OdS0skXtfw59ZWKeGtJP/YTgn39U5CtowwHF1FWeAW84k7BpPKCakXsjjbxeORSUVzyBcCllN09Vr3VoCn4FPqBZQUpLgDfpShSqq45SxUkZf76vxBqFjrwGlUwM1jr+J7E0x67oGCjqlUt+FwK3CUfLnEpqALYNuxgaYV+A3k7i1tCOstJXJ/+z7ZyTzXxUkP4SEW8NbyZ6IPd7EOikvOz7RHTlpJJNn/a4DNyabUGVpD0N4Nu0gkvy69SDAg/5r6H/2CtIpQVkImdLvfw2oJIvtHowvF5vP7prRxU5p30ciY2YMmx4mGV20nFWcRON6Ph433qSCOSSx0hWC5uQr3/MTZtgPCLmBxw6G+ZOT/HjLQo4N8idacPnd2DeCgL58LHHmF0N9SCNv4RXHqre7wbYKiIh3dPMNRUC2I/i7GSslUsTH+B482d6DpyQuyPCf29MDyN+2Bpu4mZrCJsbMjfOBPbGayBXM6rorifEhqmjHgUZkcXBobExq+0kfvZ37CgbEFsSBfPmFezwuEewJDYbI2ELqPbIeSth/DZw5/k4brSryMgQmO39zKCQhNZaDpf8aLLacdv+icV3oYtBgrL0T4MR4RGtw+fnriKRypPKzGyMvk1sLddwLDQfA5fQ4/Dhsa+z3HlqFlsSjNcNvqPxOyEe2BQbKxvbMjTxgE8XKh4A4ky9SmffYKg0KTX+EhAK1dkXpIQiroKBmvIztwsNekFOc7eL8UmvTIv5sBptY1Es9TEEz5denYP/U6rmNhb4fRGkc4WJAoJqK0VvSPT8i0l9Vg37rCwINtuYuGTR3EhidHgZfS6XZVtIWGry9l1HsPxNJb12iIVLcKCuFcijNu1US1SWzO69LakUMBy+luEfB50lKpMYRvrCNp0tqT47I+4P3QGLqEAKm3JdaM/nFT35yq2iSfFV5gKesvvCVuCzt9hIJzAwqr44UEJH4YLgOI8kqM3caXXDRfbAhTf6x/+FullDS+t1Cm5lm9LbvJZVPEF4gNHYLF3IVT5coX1XFn3Qeeok69qEE9ipXFqILBDCBjE2yFgDbH6CBjE08fH+HWHEDCIt0PAGmL1ETCIp4+P8esOIWAQb4eANcTqI2AQTx8f49cdQsAg3g4Ba4jVR8Agnj4+xq87hIBBvB0C1hCrj8D/AAcyzBD8DZxVAAAAAElFTkSuQmCC)"
      ]
    },
    {
      "cell_type": "code",
      "metadata": {
        "id": "TP2kECpMo4j_"
      },
      "source": [
        "M_L = set()\r\n",
        "M_R = set()\r\n",
        "k = 0\r\n",
        "for i in R:\r\n",
        "  for j in L:\r\n",
        "    #  print(\"i: \",R.index(i))\r\n",
        "    #  print(\"j: \",L.index(j))\r\n",
        "     if len(set(i).intersection(set(j)))**2/(len(i)*len(j))>=0.2:\r\n",
        "       M_R.add(frozenset(i))\r\n",
        "       M_L.add(frozenset(j))\r\n",
        "       k = k +1\r\n",
        "      #  print(\"k: \",k)"
      ],
      "execution_count": 43,
      "outputs": []
    },
    {
      "cell_type": "markdown",
      "metadata": {
        "id": "kmSPUsyuo4kH"
      },
      "source": [
        "Known Matched Complexes"
      ]
    },
    {
      "cell_type": "code",
      "metadata": {
        "colab": {
          "base_uri": "https://localhost:8080/"
        },
        "id": "Z4FDIynko4kI",
        "outputId": "217f9563-7449-42da-b03c-c8df8884f0b4"
      },
      "source": [
        "print(len(M_L))"
      ],
      "execution_count": 44,
      "outputs": [
        {
          "output_type": "stream",
          "text": [
            "167\n"
          ],
          "name": "stdout"
        }
      ]
    },
    {
      "cell_type": "markdown",
      "metadata": {
        "id": "JERXRmQ8o4kI"
      },
      "source": [
        "Predicted Matched Complexes\r\n",
        "\r\n"
      ]
    },
    {
      "cell_type": "code",
      "metadata": {
        "colab": {
          "base_uri": "https://localhost:8080/"
        },
        "id": "MIODSYCIo4kJ",
        "outputId": "f6541cfb-10c9-4f93-ef50-1b246b06ae31"
      },
      "source": [
        "print(len(M_R))"
      ],
      "execution_count": 45,
      "outputs": [
        {
          "output_type": "stream",
          "text": [
            "118\n"
          ],
          "name": "stdout"
        }
      ]
    },
    {
      "cell_type": "markdown",
      "metadata": {
        "id": "RhMMn0gdo4kJ"
      },
      "source": [
        "Recall\r\n",
        "\r\n",
        "![image.png](data:image/png;base64,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)"
      ]
    },
    {
      "cell_type": "code",
      "metadata": {
        "colab": {
          "base_uri": "https://localhost:8080/"
        },
        "id": "cLHl0c2no4kK",
        "outputId": "35219e89-9a03-4c04-9c4e-ae4f80734723"
      },
      "source": [
        "r = len(M_R)/len(R)\r\n",
        "print(r)"
      ],
      "execution_count": 46,
      "outputs": [
        {
          "output_type": "stream",
          "text": [
            "0.921875\n"
          ],
          "name": "stdout"
        }
      ]
    },
    {
      "cell_type": "markdown",
      "metadata": {
        "id": "6KxcK3ZUo4kK"
      },
      "source": [
        "Precision\r\n",
        "\r\n",
        "![image.png](data:image/png;base64,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)"
      ]
    },
    {
      "cell_type": "code",
      "metadata": {
        "colab": {
          "base_uri": "https://localhost:8080/"
        },
        "id": "va9-0NIWo4kL",
        "outputId": "024d6c70-a012-401f-fece-f175f4a5adb6"
      },
      "source": [
        "p = len(M_L)/len(L)\r\n",
        "print(p)"
      ],
      "execution_count": 47,
      "outputs": [
        {
          "output_type": "stream",
          "text": [
            "0.35683760683760685\n"
          ],
          "name": "stdout"
        }
      ]
    },
    {
      "cell_type": "markdown",
      "metadata": {
        "id": "XxRisiL5o4kL"
      },
      "source": [
        "f-measure\r\n",
        "\r\n",
        "![image.png](data:image/png;base64,iVBORw0KGgoAAAANSUhEUgAAAaQAAABECAYAAADOf0EDAAAfdklEQVR4Ae1d709U17ref8D+Mh/5QGJCJvGDSWMmfNDcGOaDpIYETBpCPG0m2BwDzTlm6DkRjjcFmyN4Uqc5CrFQ73FyC7F1PGXCOWJb9Up7tTdgKr3FFNI7PUcTqKVHLCKhZNDB/dysPfvds3+sPT8VAd8mdjZ7z1rrXc9as5691vtLAf/HCDACjAAjwAisAwSUdSADi8AIMAKMACPACIAJiScBI8AIMAKMwLpAgAlpXQwDC8EIMAKMACPAhMRzgBFgBBgBRmBdIMCEtC6GgYVgBBgBRoARYELiOcAIMAKMACOwLhBgQloXw8BCMALrHQENqdmr6Krdjsrms5hcWi1B4BXMjryDWv8uNA/cwpJWQlVc9PkisDiC1jIFimL8KzuMkcUnhkz3MdIayDxTAmgduZ9VXiakrPDwQ0aAEUgj8AjTsdeh6gtPFTrHFooHRruD2L6K9EK17RjGlpmRigfzOZd8PIOxoTjig+8hXOmDYiOkJGbGLiIeP4++8C4oTEjPebC4+bVHIDWPxEg/OsP7UFXhQ0VVPZrauhG7fvs5v4k73xYtb5VKGQI1IYQ7+3F5ag6ptUctrxa1pW9xvuMgWnr+G7OpUkhkFUtTH6Oj+RB6rt1dt/3NC5RCv+TcUdDOQnyqAdS81oy27vO4fmcRpSBcqFglf//Jd4hWlzkIiWpNIhGtZ0IiOPjzBUEg9QOuduyBqpShMvRHnIkNYnDgBFpqtkJRtqKu5yssPrdfufG2SG+SvgZ0fjSIeDyOePxjDHS/iZoKFYq6Bx1Xf3ixFukXZHrq3TR2FIN9YVQqCnz1nfhInwNilzGA3vYQKlVBTntw5NpPG4eUmJBepFnMfc2NwDIS0V9BVbagtmfcvhtKTWO4ZQcUdS+6JxZzV/Usv+H5w9WQmo6j2a9C8bfi0tx63Sc9S3BenLqfJKKoVhSUtY7APiNXsTTxHmpVBWr1+5h89NzeoAobDM95LarhHVJhYPK3Nz4Cy6Po3KZC2foWRuadCncNjyZ6sFPxYWf3N3j0PHub9Ye7hInumryONp5nF7jt0hHwJiQA2l0MN2+Dor6O2PRzna35dzTrvGZCyh9I/uamQECbvY7TkQgiZ8fxQPJSmXUBWEsEsv5wn2Bx5DDKlDJUR7/DE/ou6Rl0hXEKS4lP0NPagICqoqK6B+OmUYCG1Nw3GOr5A0JVfiiKioqqENp6/oaJuRWPXj5BcvYWLvcfQzhUg4A4LqqoQn2oGa2RKC5OzUNz6j1simujWm0Zs+ND6Gn7NWoCZbrBghqoQSj8NnrPXjbap/5l9GfuHQLVt4g718+jm+oT+pVQCzr7P0di4bGlL846hSXXHFILCYz0H8PB2gBUUfbAYfQMf4sHJem+LM2WeJl9PpK+sR7RRFLS0grmJv6GnrYQqsQxr+JHVegP6Bn6BnNe/RPjc+sK+jtbEKoJQNXnxisINbUhEv0UUwv0EpfC0vQ4Lp09ibameqN+MY/26TrOkcS8/DiZ5qpsbvAOSTKGfOsFRkDD8tgxbKOFPicSy7hz6TQikX5cn/VayEUlK5i93o9IJIqRadnCIWko6w+XFtcK7IvdgabNY+rykMWCqQ0XbvSj0V+OQP3v0Bk5js5jQ0g8Fgy8iqXJD9CoH/k1oP3MOZtuSg0exVVXX1Ywe+0EGkSZilqEu3oxMBhHPBbFydZ6+AmvrJZUoo9LSAw06d+vDLWjd+DjtG4sdgbHm4JQTesqDY9nbmAoHgfpUKSEZNEFBup/j0j0HOKxM4gcEiSsQK08iIHJh4Z+heokS65deOvch+gIBlATPo5obBCxM39EqFKQZDl2R27kr0d8fBuXeiKIRL/MbsSRuovr0ROInP4c0/pYSMbdcSsrIT2eQrRuCxSZBaL2EJPRA/ArKvz17bqeND7Yj+6WWlQo5Qh2XHHLmrqLa5FX9TIVNQfR1TeAwfggYtE/o7X+JSiKhfhoflZUo6njVHo+iPHq/xMaBYZqHSI35926LSrHhOQYaf6TEXAioN3DSNtOKOor6Jv8xflU+re2dAvRxu2QL+SiyApmrx5F0FegEULWH+5DjEdehqLUoHtiKSMXlalsRDj0KtqHv7fryMQ3l79G9+5yibxEVD7437iAWXP3qCE5eRq1qgp/YxQTD6y7DiC9YBo7NZKE5HAsOtr8VbRtVaHWRQ1yNAsYOz63/4n3gryM27E34Fe2ozH6tWNH8xgPJqI66arB4xh9QG/1oj06FnoJVcEGl2GIdu8zvLlVheILY/hevvo5wm6LfKEXzRrk6ZMSPuHg/vTsv/YLpod+j62CPLu/xrKtqIbliR7sViXEYxJVAG8Mz1gIYwmTfQ1QpXgSZhJCqo4iQe5EugwaHieiqFMV+JqHcc+cR4aAHnMj/ZTacc8DW/cAjvbtBIT/3mwIWBZe24Kcu58ZUurCNZuRQZFkJJr0/OHS4qdC3d2DCfMYzlJmexXqjoxg3rkYYBXzI29hq7ITbSP3LIsR9dEgOqtOQpvFpZZKKOqvEE3Ylz1RSluYwuX4EC6LIzuqxkN2WlzdCxXtXi5ibMa+g6Qyzh2SN7mREGS8Yuwi6bZJSKqDeOkLCxjrrIKiFOpDReOyBcEjX2DOBKN4MhISUf+tVnaDA6fQ0VSNCmUraruuunc69GIl1ZOKl5KvENnhg7ovhmlDTm3uM7T4ZS8LQopVLExdRTx+NXNkR7vyy1NYsPZVF9ow7Zbt3DzmRhp9JqQ0Dvz/Fx4BbWkcPbVboPibMJCw7DryRCZNSgH4Gz8wohOUQEaiTfrhepl9+w8gah5HGUJSGc/F1FhsPd/+6SjQ8oZKRiCuN+EswJAcjh0SqC71ZbSd+x8kZpfkegZL1bQg2wkpv6NVeVla9LahefhuhkTNNum5BQPzWa4LIqUAGqNGZIkid0bUEvXBjHBg6AnVwK/QefGfSDrJQBQ0cHYTP9Vq6J7M8ckPTyqd89Nr/EXBbM/Ml4Xc2HOkhpyjwF/YsAiYuojt2B/7HvZDqfx7lSGl0/ivv79d+DGdtSn64ZKhgrkQ7cXBzrP4cuYX92JKZbwIxxr5wFGvfcHL7CpoQbQTglVQyTXJYS549J0U7t/8C5p0PU3aYEEN1OJAawTRi19jNmk7+9ELydunaBA5Fi4ysrCRaS7CyfWc+uL1aSGlM5/g7x17UOgxnbVmV/+FQ/eFIwgKHVnQuSNPl9SmY9gnjE6yjrHwYSLrvGL7LAxd/heXzvaiq7UZodcMYxdq1zX+TEjWseVrRsCNgElG5Qh2fSm1vHMX8r6jLY6ia4dPP/JpuzSTcwfgWZPnou5ZIsfbp2UxsO26hMOt81/mCM61IGZp3nyUQ3YtOYfE2Kc42/s2wg1VqCCylehX5O3nuYAahGQ9msrokLzILM+6zc7KLlaxOPYOdoh+Vb6FSy4jEVkZ+T1p/7V53IzU6RZwW9uuuo5mqYz1mM89xmLM6QiumD4bJwC68Ugjjp6JYXhkFOPj4xj/ahDt4jewswcTTv+orHMjfzl4hySfL3x3IyNgJSOZ1VHBfaMfaTkqKsosx3cFV5SbXGRVZv2xF+m3QrsM2eIik0HcyyWHrdwTJO9P4Wr3ft26y7nA0uJq36GlcG84DB9Z99nqy/yRLqtiW+eoRemfa9HL9TxTv+cVzastFahQhdFF8YFh5f0HtMUbiOwulzpxa/eG0exTbDoiT1n1B3RUW4D/nXEsqO4+gZuLVqMRAI++QfdOHxTbztSQIOvcyB97JqTsI8pPNxoCtGgIq6L3b3j7ZeTdLyIjsQBNYP7HK+gIbimelLL+cD2EyllmBbcHXtOjVNRFp/I7miTnS6UaXWMWwwUPEfTbXnIsTyH+bgTvxqcsBGFURMTnWMQ8F2TjWMptsUeCkVGD04Aj16KX6znV7/FJ80rX8f0LPwoLyxJIyav/wtAgbaAiMc548j0G9m7xNESRSU4kpux4B2NOgpEU8JYrY2XHhCQBjm8xAk4ERPDPWMtuqEK5Hv/ObRrtLJDzbysZ0duwSMNQAil5LerZZMmjjDZ7AW/oPkgHEJ34WXKk+ATJn+9hwXScXMWD0eOGzuIIhm/LgnmmkExaTKS95DBIx77bER0iM2X3G7rnwqfdx2hXjYeZMpl9++DfH8Ntm89PLsKh5xYT52yYW5/ZyIj8n2Rzw1oo+7Vn/0Wx1B3Em0XaBifpPsbs8JtpHySJqb7eopbEzz89zIy/iWc5gu3DuC1LG5JaQdKYF0RgLktPEX7rzb2o2rWFd0jZh5afMgIAmWjr0Qlq30JUOHi6dCjW8/VcqGVbcIohJY/gqkM3MGNbWK1yGWa5zoCs0jKkdE977geb2nFSOJTqDpAn0H5wLwIvOVM9/ILbF97SSUlRK1F/6Bj6dKfWc4iebEdTMGjkr/GQnUyDaRdkda61BIy1KemlwUUzui3RezGWA83/pgfJlTrGOnVSep3kGOtHfWc/4haM0ibs9HwXwn3nbc+tiLuupWRE38o2R+g7js88+i+InHx+FH8jIucGMTQ2k975mv5GIqJGNZraT+jOv/G4GLMOHKytxEu2o0zhovUPXGh7WU8dogYacMjqAN1+AMFt/57JYWQSWBkqG/+Eft1R+j201gQQPHoaJxsqoFSG0TdIY+YxR425YcfeGBtTx+XAhv2Q3IDwnY2JAL1x5rRAsnqle3Y1v4UmY333H7jpGZqHGqFwMA4rKZnFEhUxzWXzLaOlQ+YMRNDa9Go6hI8IA9QYRkfvh7g0cS/z5my2sYqlO18iJgwRrKGD9DLnMar7D3nITsdwqXuYuPgBTraHjbA0Qt4yBGp/6w71Q+RFFlv6p8MBV8hmphEJpfthhP/pjn2JO863fFmdFlylc8Py3ITCeZGVjOjL9CIQyO+IWCarVGcmomi8h+agCAHlDML6GAuJzzEQaUOTbgEnQvu8gkZbmCaSz/jURCimv6K3g8bIUubDUftLUepHjEU7jPBT6XHsio1jbsXwQ7KNGe08HXPUmBtS7LP8Bj10SKQMczRim0T0zMuqxQEI/8kIMAKMACPACGRBwIOQyMOatrm01bIegwzio84G+Mw4VVla4UeMACPACDACjEAOBDwIiUrRdky2C6JdlOwZledPRoARYAQYAUYgPwRKICQNy+On8XroIPrGH+bXGn+LEWAEGAFGgBHwQKAEQvKocc1uOxStupIyhaU7X6C/87eoDZRBD1/SHsXnlJ8+9TMmh0+h7UAtAmoZAjW/RlvPRUw6Ih3buiAUtkM9aAsF057nFUGE2nowJFMQpxYxPX4JZ7sPo6mePNX9qGoIu5W7ZiMiTMc4hnoO44Cep0SE/hC5XxyKaIcy1GVim+05meuSDpCw8syrU0S+FbM/fMEIMAKMQHEIbGBCcpiibjuMc0NvI+ivRThyBrH4OZw52pjOT+9/E8N3p3HtyB74KkNo7x3AoJlDRIFaexqTkmiGGVPil1DffhoxkRdk4ARaarbqOe87rv5gs1pKW5SoqAgeQIdoQzc7/hj9x1/X5XB7P2tIJs6mw+mTXHqZc4geb0aVarGuoZw0H3Wi3me5T+PuMCe1ERZF8CXz4bIseXVMs9IC8q2QDPzJCDACjEAJCGxgQjJ6TW//23chWNfpSEJGXt1bsOfAftTtp4jNRlkK567IIgQvYqJ7L1TVne/GJCpBdLOZkJ1pQpKYsILkcLRD7ctSABg7HhuxCB8Nw5PdeZ/mAJlZSp8TVp55dciRsZB8K9QyfzICjAAjUBoCeRKSzMoujjg5xpUmQ2mlaZFVtmJ/fNoVKZkWcEV5GRGXrovCszvjYgHpvCw+OGNwpYUV+rN3sUPJRE8W96U5ZIze0e7JFn+LZJdFcTZ2PKZDnK0eyQ4pn+fUnldeHSLIAvKtGM26PrT7E/hE6phqtdT0ur6MifuWCAGu2vkGI8AIbEYE8iQk8jlyfJJj3PNEhhZZM+S6QxjSrciSSol4kYkoql2OZ0RUjh2NtWqPHYz1K9ZreTuUNKwcwbYPMZqYxZIZ2sVaOnMtryfP54SVV16dgvOtZNp1XqXGI2a059zOqo55pVQhMl547iKnDPw3I8AIbCwE8iSkUky7V7E08206fLkIYV7Av1szS64djwteWmS9PK+JkDzIU77AU14W50Lp/tseAl9sk5YxKwwb+o6htakRr5GhgmFQ4DxK0+7fwPtNIkyKUbfukd6GSPQTjM8uu/ovlzeDStbnhJVsR2Y5DsxJIF7knxGDrxgBRoARKBiBNSCkJYxHROpg92Ke615FZNxmNCDtHS2yT5WQyP/K46jSehRlPbakUCNKGSpDf8SZ2DBGxm7qJPxVvB07FHeQSb1PWhL3Ezfw2dlT6AjvQ1WFiEcmrO3c+qushOO54zOQy4EV1Z1/vhXpiKz5zVzziJ8X/ttjzBizZz0HZAvFGhCSrNmneC/HIouidkiUl8WuI8ouNR3zlWN35AYWbSmINTya6MFOacwqd61a8h6mrvYgJKI3O/Q5RBrOnVa6FnJW9tAx5cDKjPS7L4Zpm/xuGfkOI8AIMAJPGwEmJKkOCXhyewB7RdbEuigSntGYrcNBuyrZ8SZZ2Tkt8BYxFe9B5N0hTC07GYD8rOzh8rOSBhkluHRihpw5CAlF5FuxImC9Zh2SFQ2+ZgQYgXwQYELSCclJFEKhMoPhN0ROEpGY7Ws8kBgbaMl5/LTwyMCZdlXl2N39tSVRmYbUj8N4syaIXT5nOwbpyI4bl79Gt8gc6czo+XgK0TqRpKsBfZNWxf8qlibeQ92uKuyS+SkJKXMREorIt+Ixy9jKzgMYvs0IMAIeCKzCg5C8gqtexJgejt6jvjW9bchIzp6+BnR+ZMkbAsNx1nAktefwEIQzj6nLQxjsC6NS8aEy/B4G4/b+mf5GStrZtf1kVHeOjceiONn+G9QGqtE5tmD2WnvwJbqCIv3wTjQe/wCDIhdNXytq/LU42h9Bg0rtUM572gVtRU24y8hFY3e+PXLtJ4dhQwpz17rSOWwqatHS3Y/BwQH0todQubUJ/Z/2YZ+qIK0Hov545Cyx5IzJdOIhJqMH4Bc6rHzzrZiF+YIRYAQYgSIR0O54EVJGF2FXbMmOo4psvORichkzuhVa7K3KScsOhXYLNmMLSf/0vCxnEWltNizm/Kiq349wxymcvXTLkSJbJG4bRbS9MW2YoAZQe/AdxMb/hRXjaDCNJx3DiRA9n+iJtcxcNIoCNbAXBzv7MZKY9zDqWMHc+Hl06QYQPlRU7UNLZAgTcyumGXu6HeoPHSdasVCgyHZm+rgUkW+l5PHkCp4uAiuYHXkHtf5daB6gbLdFtpD6ASNdr8BfeRADk5Qxtci6uNhzRMC9ZmbWS8DUt9Oa6Lk+PKsurHgR0rNqkOtlBBiBNUFAu4PYvoq0taaHD16+cmScy90O5PnWwd9bDwjQyVfcOBlyGD9ReDI6dVpzQgIT0nqYJizDOkSArDPpbdH6qQe/bUFn/xVM3V9Zh8ILkVaxNPUxOpoPoefaXY+ddp6iaw8xdf4omlt6cW12vfY3z74U9DX3jsJ6YqQGavBa02FIs9gW1M7afzmrtS6dHjEhrf3AcIuMgBQBR7Bam2+WNTBv8KgjfqK0Nr65IRGgHYU8UengwCm0h3bqTu1qsAvX5jZOuCsmpA05IVnoFx0B7x9uEtPxMPyKCn/LZ5hzWu2/6MCtl/4vTSAW+QtGZkrZ2ZEOlnSyls5pC5joqYeqlKO67xbI5tbyjXV56T2v87HGfXZd8rCye3YNcs2MwEZCIOsP99E36N7py2IcspF6ukllnY0jVHJsxCyEJAx27w2j2afAFUZsHUOadV7zkd06HjkW7YVGIOsPF2TJmbaapO+SnkG3YNIeInHxFFrrK6EqflR337T4qBWRCFHESrx1Bf2dLQjpcRJVVFS9glCTiH/4KaYWHmFx5DDKLDovmyWVMZpa8i7GReJJPVmlsL4UCStDDutR6h9ZZ0p2CFTf0m1cj3Wb9Qn9Sih8DP0jCSzYfPgcdep6ihUsJD63J9ZsO4XhyZ9L030J2daAkEzrNI94mSgkySfhmZzFrcv96AyHUBMog6II694QmlojiF6cxALtyItKCuoVVNponAnJAII/GIF1hgCRjGxRBxGSEWw2nX7EasEUx42BJvjVStQfOopIpAvH4gnoGbSKSYSYuotrkVf1Y8KKmoPo6hNJIAcRi/4ZrfUvQVHSxPh45gaGRDJJ3cfOYUkl8E1OYaBxu+4vF2o/hYFBkQZE1PMnNFWVW3Z8hi9fnHQoMkISrg5X0KH734l+RhCNiboiOKSTcBkqm89icmnVGNkCEmuqdYjcnHf44RU4QZ45IWl4nIiiTpVbIGZ8GfNL8gkIPL9ApEGMp9U/8RyiJ1tRL8KJWYgvPT8LSQqaxi/rvGZCKnCS8dcZgTVCIOsPd/krRHb4XNE00mV8qDzwG4Tq3sbw7UXHolpMIsQlTPY1QJVGDqEjJfJvS4Mjl30V8yNvYauyBXXRqTQ5mlgauxeXdRXVLyGkx98jtn87FP8BRCccO5rUz5jQnazLEez6Eg/orV60R4ueNLFmCvcutWGrosDXPIx71nKmrHlePGNC0pL/xFDLDijqXnRPLDqEKjzJJ5K30Fe7RY4nYeYiJIt/pSkBhSuTp9CRzw2jMLXjmgdm5c/sgnVIzwxarngzIOD5wzV3OM5QUXQc4sP2qgYcGbnnICNd6YCRtp2uwLkmXgbRWXUS2txnaPGrHrEVjUgccYoAkq5JLjuRi2yhMnYvrggeVMZJSNnIzeiNGerqdcSmLSp/WvSUAN4YnnFjZOTmUkr0oXq6R3bW6P8fY6D3CJqCfigVr6Br5AfX8WLhST5TmLvUCr/0ZSETXcaaGLXgpKDGsMjnBj38DtHqMstO2bi/Bh9MSGsAMjexcRGgH67c7FuFv/EDy3FUup9UxnMxLTgRIkWSl70Je2NLctiPG6kuBWrwMM6N/h9ml3KZK3sREiWYtO/M7BJ5lCVC8sjNZe6gSn1Lf6o7JNKl0WcZAvXHcPHOL25CBeEsI34DIVeSz3zwtKOb7S/5+KdLZHv21LDPJpzHMyYkD2D4NiMgEKAfLhkqpD/LEKj9LToHvsRM8okLKCrjddyUiXxAC5vHp5kI0WNRd7Vsv0Fy2AkpvUO7+f4bqFSpXWHQ8Gu0Rv4TF8fvIuk6IvNon6JBZCUNci51kCkRklfZXM+tXU3dR8Ir8eelCGqUAMID1z2Sg36LGVO/Za3Ueu3sv4bUwne40L5HN/cOHvlCYvZfRJLPQvpsFa/ApKCiqOfc0B/yDskKL18zAusGgaw/XA8pc5Wh57ZdlzXpo3lNR3DOBdGjYcdtasdFSPr3niB5P4Gxzz5Eb8dBNFT5jSSa5Qh2XMGszTLOo/28FlAiJEdusVxlcz239lXfBRG5FvpZhci4NWq+tWK6lvdfW7yBiIjIr+xEm+tolspYj/mE8YjkHyX5LKTPJFqRSUGzzo1i5CB5SvzkHVKJAHLxzY1A1h+uR9dzlSncb4UWdY+Mw0XKYSsmshZPXUF3aLtkgaXF1aFD0u5iuHmbad1nq8/8g8pW2SLj5zwWelqL4lM9snP0H6tYvHkCu0XetN09mLDlNKN0NA4iNnGRXZBJfA26J3KRpChPx4KFJwXNOkefFvayLua4x4SUAyB+/GIjkPWH6wFNzjJFJEIkElN2vIOxRTKh9hDAuC2XQ8Py1BDejfQgPuW0CiPicxyvgUjFuSDTsZTMYs8QgowaHJmPNwchWQxUJMYZhSf5JBLzYUfXqCPrtGysvcZFfJes7Jxjma5HPjeMNpiQZGDzPUbg+SOQ9YfrIV7uMkUkQtTuY7SrJq2zaB/GbZneI7WCpOWoTS4HkY6TXERnDDNlxfmG7r3wmTnAspp9b8f+2Pd2E/Ncix49t5g4e8Cd/fYz3SGJpjWkpuNoFv5BTtItOMknYOKp7kH78PdYcunzNKSSK4ZFHxGY09IzW1LQNFzyuWFASdh76feyI17SU94hlQQfF960CHgEVx0am7EvrFYAbEkfKUliHNIyptl4AYkQk//AhbaX08E8Aw041NWbdmrVE0YeQHDbv2Nk8QkglX0Il6eEkykRkoqMc20ccTNgbDkySnqv4KKk2xKdX8XS5Fk0V5ZB0R2AnY6xTp2UUSelOHAl1nQkk6wMo2/QA0Mr9l7XJRFSPv0XDdNuRIU/dBznLIk+M46x+SX5FASXvP13tAlHYxE9o/53FgfoE2hvqsa21hHQ3jZDYHkmBZXOUZobDuyNsbGamXvB/LTuMyE9LSS5ns2FgEf6CbmBgNF1erO0hO0RVnneZYpIhKgt4s71v6K3I2wLHdQYfhu9H45i5rHmTrSmy0NHNxpScxO4GD2BdjMsjQJFTybpDPVD5OU0FHCaeQurswRG+o+BEk2qgVocaOtG7Pptx1u+vM4MRrQbs7eZeV7gNCuJkOSyUkQMmyQiikbPbxCsUKEojt1nQUk+07Vqeiim99BhjlEmMeiHo9aXogKTgkrnKM0NOfbWyBC2Pj+DP5iQngGoXCUjwAisEwRKIqR10ocXSAwmpBdosLmrjMALhwAT0oYaciakDTVcLCwjwAgwApsXASakzTu23DNGgBFgBDYUAkxIG2q4WFhGgBFgBDYvAkxIm3dsuWeMACPACGwoBJiQNtRwsbCMACPACGxeBJiQNu/Ycs8YAUaAEdhQCDAhbajhYmEZAUaAEdi8CDAhbd6x5Z4xAowAI7ChEPh/z9VL9rD0J/wAAAAASUVORK5CYII=)"
      ]
    },
    {
      "cell_type": "code",
      "metadata": {
        "colab": {
          "base_uri": "https://localhost:8080/"
        },
        "id": "pUvgtM44o4kL",
        "outputId": "453927ba-17fc-481c-aba3-87bb80129725"
      },
      "source": [
        "f_measure = (2*p*r)/(p+r)\r\n",
        "print(f_measure)"
      ],
      "execution_count": 48,
      "outputs": [
        {
          "output_type": "stream",
          "text": [
            "0.5145169712793733\n"
          ],
          "name": "stdout"
        }
      ]
    },
    {
      "cell_type": "markdown",
      "metadata": {
        "id": "OOmXB7tSpT-v"
      },
      "source": [
        "# **MeanShift**"
      ]
    },
    {
      "cell_type": "code",
      "metadata": {
        "id": "9oscPgrMLWrl"
      },
      "source": [
        "method = \"AffinityPropagation_\""
      ],
      "execution_count": 49,
      "outputs": []
    },
    {
      "cell_type": "code",
      "metadata": {
        "id": "DuU7tvzfeyxE"
      },
      "source": [
        "from numpy import unique\r\n",
        "from numpy import where\r\n",
        "from sklearn.datasets import make_classification\r\n",
        "from sklearn.cluster import MeanShift\r\n",
        "from matplotlib import pyplot\r\n",
        "# define dataset\r\n",
        "model = MeanShift()\r\n",
        "# fit model and predict clusters\r\n",
        "yhat = model.fit_predict(X_train)\r\n",
        "# retrieve unique clusters\r\n",
        "clusters = unique(yhat)"
      ],
      "execution_count": 50,
      "outputs": []
    },
    {
      "cell_type": "code",
      "metadata": {
        "id": "k-XAbo4C-VK3"
      },
      "source": [
        "A = []\r\n",
        "for i in range(max(list(yhat))+1):\r\n",
        "  A.append([])\r\n",
        "for i in range(len(list(yhat))):\r\n",
        "  A[list(yhat)[i]].append(i)"
      ],
      "execution_count": 51,
      "outputs": []
    },
    {
      "cell_type": "code",
      "metadata": {
        "id": "jHy_HvPn-q3c"
      },
      "source": [
        "g = open(\"/content/\" +str(n) +\"_original_communities_result.txt\",\"w\")\r\n",
        "for i in A:\r\n",
        "  for j in i:\r\n",
        "    g.write(str(j) +\"\\t\")\r\n",
        "  g.write(\"\\n\")\r\n",
        "g.close()"
      ],
      "execution_count": 52,
      "outputs": []
    },
    {
      "cell_type": "code",
      "metadata": {
        "id": "Pf3d1iJ0LiHt"
      },
      "source": [
        "f = open(\"/content/\" +str(n) +\"_original_communities_result.txt\",\"r\")\r\n",
        "g = open(\"/content/\" + method +str(n) +\"_original_communities_result.txt\",\"w\")\r\n",
        "for line in f:\r\n",
        "  for i in line.split():\r\n",
        "    g.write(list(nd.keys())[int(i)] +\"\\t\")\r\n",
        "  g.write(\"\\n\")\r\n",
        "g.close()\r\n",
        "f.close()"
      ],
      "execution_count": 53,
      "outputs": []
    },
    {
      "cell_type": "markdown",
      "metadata": {
        "id": "wkIrXmJoLxwy"
      },
      "source": [
        "# ***Evaluation Metrics***"
      ]
    },
    {
      "cell_type": "code",
      "metadata": {
        "colab": {
          "base_uri": "https://localhost:8080/"
        },
        "id": "oVbFY74eLxw0",
        "outputId": "44ff932a-c10a-458d-8a4a-62bea85564de"
      },
      "source": [
        "L = []\r\n",
        "g = open(\"/content/\" +str(n) +\"_original_communities.txt\",\"r\")\r\n",
        "for line in g:\r\n",
        "  if len(line.split())>0:\r\n",
        "     L.append(line.split())\r\n",
        "print(len(L))"
      ],
      "execution_count": 54,
      "outputs": [
        {
          "output_type": "stream",
          "text": [
            "468\n"
          ],
          "name": "stdout"
        }
      ]
    },
    {
      "cell_type": "markdown",
      "metadata": {
        "id": "BhL0kXfILxxB"
      },
      "source": [
        "Total Predicted Complexes"
      ]
    },
    {
      "cell_type": "code",
      "metadata": {
        "colab": {
          "base_uri": "https://localhost:8080/"
        },
        "id": "RKL39WD5LxxC",
        "outputId": "9906d229-ed06-44b8-b91a-d69a7ee0a6e6"
      },
      "source": [
        "R = []\r\n",
        "g = open(\"/content/\" +str(n) +\"_original_communities_result.txt\",\"r\")\r\n",
        "for line in g:\r\n",
        "  if len(line.split())>0:\r\n",
        "     R.append(line.split())\r\n",
        "print(len(R))"
      ],
      "execution_count": 55,
      "outputs": [
        {
          "output_type": "stream",
          "text": [
            "139\n"
          ],
          "name": "stdout"
        }
      ]
    },
    {
      "cell_type": "markdown",
      "metadata": {
        "id": "qTy5nKbdLxxC"
      },
      "source": [
        "Checking for Overlapping Scores and calculating number of matching sets\r\n",
        "\r\n",
        "![image.png](data:image/png;base64,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)\r\n",
        "\r\n",
        "![image.png](data:image/png;base64,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)\r\n",
        "\r\n",
        "![image.png](data:image/png;base64,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)"
      ]
    },
    {
      "cell_type": "code",
      "metadata": {
        "id": "oFP1fno4LxxI"
      },
      "source": [
        "M_L = set()\r\n",
        "M_R = set()\r\n",
        "k = 0\r\n",
        "for i in R:\r\n",
        "  for j in L:\r\n",
        "    #  print(\"i: \",R.index(i))\r\n",
        "    #  print(\"j: \",L.index(j))\r\n",
        "     if len(set(i).intersection(set(j)))**2/(len(i)*len(j))>=0.2:\r\n",
        "       M_R.add(frozenset(i))\r\n",
        "       M_L.add(frozenset(j))\r\n",
        "       k = k +1\r\n",
        "      #  print(\"k: \",k)"
      ],
      "execution_count": 56,
      "outputs": []
    },
    {
      "cell_type": "markdown",
      "metadata": {
        "id": "h8c9wffNLxxM"
      },
      "source": [
        "Known Matched Complexes"
      ]
    },
    {
      "cell_type": "code",
      "metadata": {
        "colab": {
          "base_uri": "https://localhost:8080/"
        },
        "id": "bDb90wmKLxxN",
        "outputId": "3a42ad8d-02d6-4179-968f-5c984bf3f807"
      },
      "source": [
        "print(len(M_L))"
      ],
      "execution_count": 57,
      "outputs": [
        {
          "output_type": "stream",
          "text": [
            "167\n"
          ],
          "name": "stdout"
        }
      ]
    },
    {
      "cell_type": "markdown",
      "metadata": {
        "id": "25dUiSBRLxxN"
      },
      "source": [
        "Predicted Matched Complexes\r\n",
        "\r\n"
      ]
    },
    {
      "cell_type": "code",
      "metadata": {
        "colab": {
          "base_uri": "https://localhost:8080/"
        },
        "id": "anaJQml3LxxN",
        "outputId": "bdfbd091-735b-4fd9-c5c2-2c6e7e39c44a"
      },
      "source": [
        "print(len(M_R))"
      ],
      "execution_count": 58,
      "outputs": [
        {
          "output_type": "stream",
          "text": [
            "121\n"
          ],
          "name": "stdout"
        }
      ]
    },
    {
      "cell_type": "markdown",
      "metadata": {
        "id": "8_lqmLaPLxxO"
      },
      "source": [
        "Recall\r\n",
        "\r\n",
        "![image.png](data:image/png;base64,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)"
      ]
    },
    {
      "cell_type": "code",
      "metadata": {
        "colab": {
          "base_uri": "https://localhost:8080/"
        },
        "id": "aogPgXmULxxO",
        "outputId": "f33203c6-d6ab-4ba5-c27e-536262bbf333"
      },
      "source": [
        "r = len(M_R)/len(R)\r\n",
        "print(r)"
      ],
      "execution_count": 59,
      "outputs": [
        {
          "output_type": "stream",
          "text": [
            "0.8705035971223022\n"
          ],
          "name": "stdout"
        }
      ]
    },
    {
      "cell_type": "markdown",
      "metadata": {
        "id": "AbCmxVLkLxxP"
      },
      "source": [
        "Precision\r\n",
        "\r\n",
        "![image.png](data:image/png;base64,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)"
      ]
    },
    {
      "cell_type": "code",
      "metadata": {
        "colab": {
          "base_uri": "https://localhost:8080/"
        },
        "id": "CnBYHCRmLxxP",
        "outputId": "7f9b6181-33da-46e7-e575-2d602a0a9112"
      },
      "source": [
        "p = len(M_L)/len(L)\r\n",
        "print(p)"
      ],
      "execution_count": 60,
      "outputs": [
        {
          "output_type": "stream",
          "text": [
            "0.35683760683760685\n"
          ],
          "name": "stdout"
        }
      ]
    },
    {
      "cell_type": "markdown",
      "metadata": {
        "id": "VKtok4qMLxxQ"
      },
      "source": [
        "f-measure\r\n",
        "\r\n",
        "![image.png](data:image/png;base64,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)"
      ]
    },
    {
      "cell_type": "code",
      "metadata": {
        "colab": {
          "base_uri": "https://localhost:8080/"
        },
        "id": "n7QjG2rWLxxQ",
        "outputId": "265d7d38-771e-404e-a754-b15cf4bd38ee"
      },
      "source": [
        "f_measure = (2*p*r)/(p+r)\r\n",
        "print(f_measure)"
      ],
      "execution_count": 61,
      "outputs": [
        {
          "output_type": "stream",
          "text": [
            "0.5061810348066783\n"
          ],
          "name": "stdout"
        }
      ]
    },
    {
      "cell_type": "markdown",
      "metadata": {
        "id": "jwlfNLqWpdOs"
      },
      "source": [
        "# **OPTICS**"
      ]
    },
    {
      "cell_type": "code",
      "metadata": {
        "id": "G9lIe_IxMBkG"
      },
      "source": [
        "method = \"AffinityPropagation_\""
      ],
      "execution_count": 62,
      "outputs": []
    },
    {
      "cell_type": "code",
      "metadata": {
        "id": "5iv1SqwOkYm-"
      },
      "source": [
        "\r\n",
        "# optics clustering\r\n",
        "from numpy import unique\r\n",
        "from numpy import where\r\n",
        "from sklearn.datasets import make_classification\r\n",
        "from sklearn.cluster import OPTICS\r\n",
        "from matplotlib import pyplot\r\n",
        "model = OPTICS(eps=0.8, min_samples=2)\r\n",
        "# fit model and predict clusters\r\n",
        "yhat = model.fit_predict(X_train)\r\n",
        "# retrieve unique clusters\r\n",
        "clusters = unique(yhat) "
      ],
      "execution_count": 63,
      "outputs": []
    },
    {
      "cell_type": "code",
      "metadata": {
        "id": "wnoKEvjW-9_u"
      },
      "source": [
        "A = []\r\n",
        "for i in range(max(list(yhat))+1+1):\r\n",
        "  A.append([])\r\n",
        "for i in range(len(list(yhat))):\r\n",
        "  A[list(yhat)[i]+1].append(i)"
      ],
      "execution_count": 64,
      "outputs": []
    },
    {
      "cell_type": "code",
      "metadata": {
        "id": "dj0ovc5w_CPe"
      },
      "source": [
        "g = open(\"/content/\" +str(n) +\"_original_communities_result.txt\",\"w\")\r\n",
        "for i in A:\r\n",
        "  for j in i:\r\n",
        "    g.write(str(j) +\"\\t\")\r\n",
        "  g.write(\"\\n\")\r\n",
        "g.close()"
      ],
      "execution_count": 65,
      "outputs": []
    },
    {
      "cell_type": "code",
      "metadata": {
        "id": "k86_lWtnMH3h"
      },
      "source": [
        "f = open(\"/content/\" +str(n) +\"_original_communities_result.txt\",\"r\")\r\n",
        "g = open(\"/content/\" + method +str(n) +\"_original_communities_result.txt\",\"w\")\r\n",
        "for line in f:\r\n",
        "  for i in line.split():\r\n",
        "    g.write(list(nd.keys())[int(i)] +\"\\t\")\r\n",
        "  g.write(\"\\n\")\r\n",
        "g.close()\r\n",
        "f.close()"
      ],
      "execution_count": 66,
      "outputs": []
    },
    {
      "cell_type": "markdown",
      "metadata": {
        "id": "Fw5_TcbHMNOM"
      },
      "source": [
        "# ***Evaluation Metrics***"
      ]
    },
    {
      "cell_type": "code",
      "metadata": {
        "colab": {
          "base_uri": "https://localhost:8080/"
        },
        "id": "dhDL75_lMNOM",
        "outputId": "b5d8b74b-cec4-4aaf-875f-1e399c3fa2b2"
      },
      "source": [
        "L = []\r\n",
        "g = open(\"/content/\" +str(n) +\"_original_communities.txt\",\"r\")\r\n",
        "for line in g:\r\n",
        "  if len(line.split())>0:\r\n",
        "     L.append(line.split())\r\n",
        "print(len(L))"
      ],
      "execution_count": 67,
      "outputs": [
        {
          "output_type": "stream",
          "text": [
            "468\n"
          ],
          "name": "stdout"
        }
      ]
    },
    {
      "cell_type": "markdown",
      "metadata": {
        "id": "CcRFxrcuMNON"
      },
      "source": [
        "Total Predicted Complexes"
      ]
    },
    {
      "cell_type": "code",
      "metadata": {
        "colab": {
          "base_uri": "https://localhost:8080/"
        },
        "id": "K9Ot6p7PMNON",
        "outputId": "e0c5befa-8347-458d-9f19-d300741ca7a2"
      },
      "source": [
        "R = []\r\n",
        "g = open(\"/content/\" +str(n) +\"_original_communities_result.txt\",\"r\")\r\n",
        "for line in g:\r\n",
        "  if len(line.split())>0:\r\n",
        "     R.append(line.split())\r\n",
        "print(len(R))"
      ],
      "execution_count": 68,
      "outputs": [
        {
          "output_type": "stream",
          "text": [
            "24\n"
          ],
          "name": "stdout"
        }
      ]
    },
    {
      "cell_type": "markdown",
      "metadata": {
        "id": "lnhbAn2ZMNON"
      },
      "source": [
        "Checking for Overlapping Scores and calculating number of matching sets\r\n",
        "\r\n",
        "![image.png](data:image/png;base64,iVBORw0KGgoAAAANSUhEUgAAAOAAAABTCAYAAACGcws6AAAPhElEQVR4Ae1dXWsc1xk+P2Bu9lIXBoNY0IXBGKELGVOsC4sEgRRajHFTFinESCYJshMsp6FrhVhysSaQSpDKbru0XhK8IV1cskkjUsmuVZBKvZANtghybBUpkWLJlW0hC8vazTzlzM4Zz8737Id2bb8CMbNzPueZ88x7zvtxhoH+CAFCoGoIsKq1TA0TAoQAiIA0CAiBKiJABKwi+NQ0IUAEpDFACFQRASJgFcGnpgkBIiCNAUKgiggQAasIPjVNCBABaQwQAlVEgAhYRfCpaUKACEhjgBCoIgJEwCqCT00TAkRAGgOEQBURIAJWEXxqmhAgAtIYIASqiAARsIrgU9OEABGQxgAhEBiBHNZnL+FUewMYY2CsDk3d5zG1tBm4JiJgYMiowPOOgLL8JY43NOCg/BXm1nPIrvwb5zobET76GZaUYOgQAYPhRbmfewQeYTZ2EGxHPyYfCrYpeDjZjx3SG0it5AIhRAQMBBdlJgRyWF+4jvQ3C1gX/INGwNBbGFslAtIYIQS2GYEHSMsvQDqcwLxOSn9dIAnoD6fnPNcCkpF61MtpZP0gocwhcbg+r6DYN4qZYELBTwsB8+T7n1eYcKWJ6b++FT3y55hdN3c0i6VkN1i9jLTjjSt4dOM82qW9ODmxjID8oz1hAj7J5zR7EAIq2Ei/j2Z9kL+M+Fxw7WBZgVYWMXn+fcjRCBp5v0Jt6D0rQ5ZlyANv4mBjHRiTEO5K4PaWkULeBFTu/QuDLTvRcPxLLBuL+rwBkoA+gXq+swUgoPIDUj27wEIRRN9pA2NhdCbnA0sGFW9lDXOXL2CguxX1OqG59AqjpXsQFy7fMqzDfDyhpSQivJ49w8gYhV32FhKd3KRwAHJ6zVCROwGV9W8Q69wDqf1DZCzS01CNyykR0AUcShII+CWggq3ZGDokCQ3RK/hx+gx2MYZQ7xhWRVV+j9nvMX7qRUisAW3HPkD8swlMp9NIp6cw8Vkcw8faUc8a0H7mn1jxKXmyaTlP5EgSSwX90IjG6hFJLhhSnAmok6/lNMaLsP+JRoiAAgk6uiDgl4D/w2R0Hxhrw3BmHVibQF8dA6v7NSbWfnKp35z0CPPJXoTDr+LctTsO685NrFz7AzrDTTiaWvAhYRVsTg9iJ2OQulNYKWhSMy2wRvRN3DWk2BMwT75GhDv/ghtFSj7RCBFQIEFHFwT8EVBZTKIrxCC9FMdtzjdlHsnOsM3UzqUpnrTxH8jNu9HlOXXdwmLyKELN7yO94SUGhZRjFmWSsjaFweYQWMO7mCx4UdgRcB1peb9VkaNOkc0S1OM+AVLCeENEOQA/BMyr4hnbhZ7UD5pEEpIlhH2j12FcdrmhmpsZxT6/UlOVsh0YndlwqxLAFhYSXWDM0JfsCmYmLiDKXcqkF9F/9UeTJLUjoEczAZNJAgYE7PnM7k1AZXUcJxsksF1nMK1LIwWbaRm7uXRojWHW1yw0h9WxtxDqiGPOS6jxh6F8h3hHM3rH7ng8GhfJJbXi7XHx0jBWQwQ0okHnVUPAi4CbuB3/FSS+vtrfjdNcvS/+hepfegWJ+cc+7kAb9BZFiVNR3rdGk/LELu8qJqPN4BI6In+MZDKJZPKvSMSG0NvGNaANaB8cx1LWyHoioB2SdG3bEfAgoLpmCzmsi4TRe7cPKcVvrFIEzN8DY/shp9cLEczOI3WMk3MnOmIz2NJTiYA6FHRSTQTcCKgpQpiEXQNTsK7ENjEXf1klZ13fBIxWNvs7qhABf/oWsVZucO9Gcsns1qL5clqmykRA+2dEV7cZARcCbs0g1rETTPolYrNW+vGO/jQbQysf3AXrQ6dbqBABs2nI9dwLxt5hWrcRFhjpiYBOT4mubysCTgTMYXXiN2hgEhpOjmPVuHwy9u/x1xjey6eomn3QmGY5rxABV8fQG2IOfp0PMTP6c1VKFzoNEAEtj4cuVAMBBwJyO18XV2B4Ees+pge47awOrbFv4a4MrRABhRuaRbsqDPoSGGvBqckVgymCCFiN0UZtWhAwE/A+Molhk3PzMBKZ+5aSAM/7AaIRruRgYI0RRGWnvLx4uQm4gbmx80/6qravaWmHonijvVHV3jK2B52xb0y+pURAmwdKl7YfATMB878Lw3qcvECC5K0AAZX/InFop4uGNu/YHZ9etHF5q3kCbmIl8zeM9B1CoyTUzXye3YrugQu4PLdmEOemYZNdRubSCPoONmlvIFE+jP2RtzEydguPTEVcfyoPMHMl4+6YW4k4NTG14W93y7+E+pajkFPfGt6sCh7dnMKV2y7YuN5oNRLNBKxGH6rRZg0TUFm/iVSUe6vzgcdJcwIDsoyh6GtoV+OrmOrec2r8e8ubRXiS8wErNb6EN6K/1Qy3p9F3pD1PZt+GWIDXFz/eh5Epu7eYeHCViVNTliZxXj6rT7FCbb04qxqhhzBwQryY9qArcVO3L6nYnXod/TbYiN7W1pEI6ByQW9qTKs4VLTuHZE8jGNuB/cfiSK+YAi6zd5COv4X9XCpKhzB6w2j4XENm+CVILISmk1+aPA/4EkBTF/skoBoQeeBljGTuO0tbjlE549QsmGtvSiZhz3DG4POoIDv/CTq59m23jPSmQU2YXcDY20dg94KyVF/1C0TAGiLgBm7FuxDiEcQ9ScwXuO4YRopyH5mRg6qEDHUlsSjG3uY1yLu5xukgYrM2k8xcBsN7JJuQEUPd4nTrJhJd+0zeCyLReCxjnJqxWv1c+BnarYPEGshqAFb9J3e1Y3DqrvvLQ2+nWidEwJohoO5062J4FcNEmU/gsCoFDdu16WumLiQWnjj9iDL+j9qLwBJCYldDueLU7Orm1x5geoDHwTWgO7VYmEl4YNh692v2p6bTmLznN1agsHr69XQjEHAKmsVyqhchHuXck/LeA0MMPqP/Xe46Rvdxo+wOHBi8gmUnCeqBa/5FEHJwfyosXLY4tcJqDb+ElDP7GeawNn0WzdxQHb1q64aV9xIx+yAaqqbTZxqBgAQUHuU70BH/zse0SQxM49Qsh3tTQ2hRtaaalvDiZczcNa0jXWF/jPnEK5CYHwff8sWpOXZJV3WLuDQF2bszmIhH0V4vQWoZxNUVs/+hVtvmNAZ2MrC9I8g8FvN0x5Yo4RlDIBgB1dirHWCsGdFJP7t82BGQI2jeW59rUuvQFDntc6OdRaS6uQeGGPDOT0WfMhf4IRYTp+bchq44spgheHhOP8aX3KbaAiPve1F7oKwg88UlLZyGh9QE+b+ELzJGTw+Xe6KkbUEgGAGFhtI4pXTrpk7YfRiYfmCTcxN3Z77ChYFutNRzxYxGxJ6P3Pfa0PthVWwUNlLOOLXCmgt+PZxEdAff+yQC+VNBiIuIyb1o4/dV/wsMTljNMfk6XNaPBY1oP/R7t7M7el/zvbenXdt0rewIVJaAYmAyH3tDcsP8J/3qlI3v0ejq3LuSQrc6hfUgYFnj1FywF4olywauCrKLKRzjkeKOSiuhQTVsleDSFCU9WwgEI6C2Nwiz7B5lB4qCx5kR7OVSzff6Jod7k6fRxMvYag21dsSAt43tEn0pd5yaqNd61MNtbG2XYt3s5IgsCGjdLMja0vZesXr2eEtYKvMEIz9PKyABHyIz/IK6i7B98KWhSWUZEyf3mqKMN3F39mvThy0MZfipH3IJxYUbAcsep2bqp+GniCUrDGURGQTBzEZ6c7oTQUU+Oj6LCAQkoMGdq+EEUotOmssc1q59gAN8mlhg49IUDpapmoA2h7XJ99TNXJnbNwV084aT4qIScWqij+ajtokQc5BgW9cxeoBHYjtpbMUa0Cnd1B6tAU2APN0/AxKQu3QtYuw4Dy2REI58aP0qqLKG22MyDoX5uqcD8rVVg7nCjYA5rN9OIdrCtayNHputriEtH3DWxpYlTo1rav+OcyMXMe2687FwQ7MxzWTv4Nq5VxHmU+qCF5Fh0AgTht9Ni0gLagDvaTvNYX3mU5zqOYGRqz+oPtLBCcg5qO2Jn5/vC0fsIQz0vYo2zRFbanodMcuuxkLlziMm9uNgZy+iQzJkz7gsM9BifWlWXJQxTk2Xssz5s1NbtzE2MqQ5YofQGHlH3w2swCk9fASxGw8MLyLD/WiKqgJ3PUMynT5DCBijcTSzWFEEVCGxDSeqQ2P76xi4cEX9dK8VuoeYu3oRvz/Vi0ibCITUFq31LYhEz+PzzLIlesJaD38LaNHYBftNGgiumjR43UYnAGNNXnm17dFdFELKQgKH9HaeLL51RYQalvWxiwRVsKF+P+EFyGk7M42xv3T+9COwiaWJs2gP/ww98Xzwb/EErDoaCrZufYTDoQoOXiEFfWtxA4LCIzSONqLp7X+4xzEGrLY62QPGzhmlgdt6X9yMqpwzu/qJROMx/2K12Dt15Z7Ni5LZxW2KOh3qE8klHp9iAvI7z0upXYc/wq2C77qViIoortoR63z5m4oi/o95k0tzCZ+28t/WduQMQkCDMk+dQfiwE5dIwGLiNvOoEQHdR4/yADfib+Jw/1fW2EL3ku6pvN7YEYTDvUjO24RNuZf2SM1h/cYFHO36Ha66Kng8qqmp5AAELCY2s0QC5qESCjOzScglbtPXdzGKfxBPuQQUN76Jpak/4eS7Y1gqlz8z/z7dmffwZyfliWg68FHBRuaPeK3/ks0nkQNXVkMF/BKwyNjMshBQ2GTt9AJCJ2D2riIJWEODjLrijIBfAhYZm1kWAgqba5C4TSKg8zOnlBpCwB8Bi47NLAsBhZQzK3Pc4jaJgDU0yKgrzgj4IWAJsZnlIKBwetDD2PzEbRIBnZ85pdQQAt4ELCk2sxwEdHHjc47bJALW0CCjrjgj4EXAEmMzy0FAER4XKG6TCOj8zCmlhhDwIGCpsZnlIKBah90HWtziNomANTTIqCvOCLgRsAyxmWUgYHFxm0RA52dOKTWEgAsByxGbWQYCFhe3SQSsoUFGXXFGwImAZYrNLJmAxcZtEgGdnzml1BACDgQUUSulfkOwZAJq/WNB4zaJgDU0yKgrzgiYCVjG2EzeaCkELClukwjo/MwppYYQMBMwP3D12Eg16sHOB5Pfgo+8JRCwtLhNImANDTLqijMCZgI65ywqpQQCFtWeXogIqENBJ7WMABGwmKfzjIQjFXPrVKa8CBABi8GTCFgMalTGBgEioA0onpeIgJ4QUQZCoHIIEAErhy3VTAh4IkAE9ISIMhAClUOACFg5bKlmQsATASKgJ0SUgRCoHAJEwMphSzUTAp4IEAE9IaIMhEDlECACVg5bqpkQ8ESACOgJEWUgBCqHABGwcthSzYSAJwL/B4OK81Zaz998AAAAAElFTkSuQmCC)\r\n",
        "\r\n",
        "![image.png](data:image/png;base64,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)\r\n",
        "\r\n",
        "![image.png](data:image/png;base64,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)"
      ]
    },
    {
      "cell_type": "code",
      "metadata": {
        "id": "nfLEy6tGMNOO"
      },
      "source": [
        "M_L = set()\r\n",
        "M_R = set()\r\n",
        "k = 0\r\n",
        "for i in R:\r\n",
        "  for j in L:\r\n",
        "    #  print(\"i: \",R.index(i))\r\n",
        "    #  print(\"j: \",L.index(j))\r\n",
        "     if len(set(i).intersection(set(j)))**2/(len(i)*len(j))>=0.2:\r\n",
        "       M_R.add(frozenset(i))\r\n",
        "       M_L.add(frozenset(j))\r\n",
        "       k = k +1\r\n",
        "      #  print(\"k: \",k)"
      ],
      "execution_count": 69,
      "outputs": []
    },
    {
      "cell_type": "markdown",
      "metadata": {
        "id": "y0L08DwWMNOO"
      },
      "source": [
        "Known Matched Complexes"
      ]
    },
    {
      "cell_type": "code",
      "metadata": {
        "colab": {
          "base_uri": "https://localhost:8080/"
        },
        "id": "A_5F8gduMNOO",
        "outputId": "0b774e3e-4530-43bf-b0ab-1d42d9de405b"
      },
      "source": [
        "print(len(M_L))"
      ],
      "execution_count": 70,
      "outputs": [
        {
          "output_type": "stream",
          "text": [
            "23\n"
          ],
          "name": "stdout"
        }
      ]
    },
    {
      "cell_type": "markdown",
      "metadata": {
        "id": "uVxmHdGxMNOO"
      },
      "source": [
        "Predicted Matched Complexes\r\n",
        "\r\n"
      ]
    },
    {
      "cell_type": "code",
      "metadata": {
        "colab": {
          "base_uri": "https://localhost:8080/"
        },
        "id": "Nd5PVKJWMNOP",
        "outputId": "49f19963-0485-4d40-f4fa-bce38d1f6ced"
      },
      "source": [
        "print(len(M_R))"
      ],
      "execution_count": 71,
      "outputs": [
        {
          "output_type": "stream",
          "text": [
            "18\n"
          ],
          "name": "stdout"
        }
      ]
    },
    {
      "cell_type": "markdown",
      "metadata": {
        "id": "q-Y6t3NWMNOP"
      },
      "source": [
        "Recall\r\n",
        "\r\n",
        "![image.png](data:image/png;base64,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)"
      ]
    },
    {
      "cell_type": "code",
      "metadata": {
        "colab": {
          "base_uri": "https://localhost:8080/"
        },
        "id": "VaEvfT8DMNOP",
        "outputId": "fec52011-3491-40ab-b41e-19875cfbe2c8"
      },
      "source": [
        "r = len(M_R)/len(R)\r\n",
        "print(r)"
      ],
      "execution_count": 72,
      "outputs": [
        {
          "output_type": "stream",
          "text": [
            "0.75\n"
          ],
          "name": "stdout"
        }
      ]
    },
    {
      "cell_type": "markdown",
      "metadata": {
        "id": "D2YcKUfGMNOP"
      },
      "source": [
        "Precision\r\n",
        "\r\n",
        "![image.png](data:image/png;base64,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)"
      ]
    },
    {
      "cell_type": "code",
      "metadata": {
        "colab": {
          "base_uri": "https://localhost:8080/"
        },
        "id": "r_10Sos-MNOQ",
        "outputId": "e79b9929-a403-4193-ee8f-82d9af5d505e"
      },
      "source": [
        "p = len(M_L)/len(L)\r\n",
        "print(p)"
      ],
      "execution_count": 73,
      "outputs": [
        {
          "output_type": "stream",
          "text": [
            "0.049145299145299144\n"
          ],
          "name": "stdout"
        }
      ]
    },
    {
      "cell_type": "markdown",
      "metadata": {
        "id": "Po_dgyOaMNOQ"
      },
      "source": [
        "f-measure\r\n",
        "\r\n",
        "![image.png](data:image/png;base64,iVBORw0KGgoAAAANSUhEUgAAAaQAAABECAYAAADOf0EDAAAfdklEQVR4Ae1d709U17ref8D+Mh/5QGJCJvGDSWMmfNDcGOaDpIYETBpCPG0m2BwDzTlm6DkRjjcFmyN4Uqc5CrFQ73FyC7F1PGXCOWJb9Up7tTdgKr3FFNI7PUcTqKVHLCKhZNDB/dysPfvds3+sPT8VAd8mdjZ7z1rrXc9as5691vtLAf/HCDACjAAjwAisAwSUdSADi8AIMAKMACPACIAJiScBI8AIMAKMwLpAgAlpXQwDC8EIMAKMACPAhMRzgBFgBBgBRmBdIMCEtC6GgYVgBBgBRoARYELiOcAIMAKMACOwLhBgQloXw8BCMALrHQENqdmr6Krdjsrms5hcWi1B4BXMjryDWv8uNA/cwpJWQlVc9PkisDiC1jIFimL8KzuMkcUnhkz3MdIayDxTAmgduZ9VXiakrPDwQ0aAEUgj8AjTsdeh6gtPFTrHFooHRruD2L6K9EK17RjGlpmRigfzOZd8PIOxoTjig+8hXOmDYiOkJGbGLiIeP4++8C4oTEjPebC4+bVHIDWPxEg/OsP7UFXhQ0VVPZrauhG7fvs5v4k73xYtb5VKGQI1IYQ7+3F5ag6ptUctrxa1pW9xvuMgWnr+G7OpUkhkFUtTH6Oj+RB6rt1dt/3NC5RCv+TcUdDOQnyqAdS81oy27vO4fmcRpSBcqFglf//Jd4hWlzkIiWpNIhGtZ0IiOPjzBUEg9QOuduyBqpShMvRHnIkNYnDgBFpqtkJRtqKu5yssPrdfufG2SG+SvgZ0fjSIeDyOePxjDHS/iZoKFYq6Bx1Xf3ixFukXZHrq3TR2FIN9YVQqCnz1nfhInwNilzGA3vYQKlVBTntw5NpPG4eUmJBepFnMfc2NwDIS0V9BVbagtmfcvhtKTWO4ZQcUdS+6JxZzV/Usv+H5w9WQmo6j2a9C8bfi0tx63Sc9S3BenLqfJKKoVhSUtY7APiNXsTTxHmpVBWr1+5h89NzeoAobDM95LarhHVJhYPK3Nz4Cy6Po3KZC2foWRuadCncNjyZ6sFPxYWf3N3j0PHub9Ye7hInumryONp5nF7jt0hHwJiQA2l0MN2+Dor6O2PRzna35dzTrvGZCyh9I/uamQECbvY7TkQgiZ8fxQPJSmXUBWEsEsv5wn2Bx5DDKlDJUR7/DE/ou6Rl0hXEKS4lP0NPagICqoqK6B+OmUYCG1Nw3GOr5A0JVfiiKioqqENp6/oaJuRWPXj5BcvYWLvcfQzhUg4A4LqqoQn2oGa2RKC5OzUNz6j1simujWm0Zs+ND6Gn7NWoCZbrBghqoQSj8NnrPXjbap/5l9GfuHQLVt4g718+jm+oT+pVQCzr7P0di4bGlL846hSXXHFILCYz0H8PB2gBUUfbAYfQMf4sHJem+LM2WeJl9PpK+sR7RRFLS0grmJv6GnrYQqsQxr+JHVegP6Bn6BnNe/RPjc+sK+jtbEKoJQNXnxisINbUhEv0UUwv0EpfC0vQ4Lp09ibameqN+MY/26TrOkcS8/DiZ5qpsbvAOSTKGfOsFRkDD8tgxbKOFPicSy7hz6TQikX5cn/VayEUlK5i93o9IJIqRadnCIWko6w+XFtcK7IvdgabNY+rykMWCqQ0XbvSj0V+OQP3v0Bk5js5jQ0g8Fgy8iqXJD9CoH/k1oP3MOZtuSg0exVVXX1Ywe+0EGkSZilqEu3oxMBhHPBbFydZ6+AmvrJZUoo9LSAw06d+vDLWjd+DjtG4sdgbHm4JQTesqDY9nbmAoHgfpUKSEZNEFBup/j0j0HOKxM4gcEiSsQK08iIHJh4Z+heokS65deOvch+gIBlATPo5obBCxM39EqFKQZDl2R27kr0d8fBuXeiKIRL/MbsSRuovr0ROInP4c0/pYSMbdcSsrIT2eQrRuCxSZBaL2EJPRA/ArKvz17bqeND7Yj+6WWlQo5Qh2XHHLmrqLa5FX9TIVNQfR1TeAwfggYtE/o7X+JSiKhfhoflZUo6njVHo+iPHq/xMaBYZqHSI35926LSrHhOQYaf6TEXAioN3DSNtOKOor6Jv8xflU+re2dAvRxu2QL+SiyApmrx5F0FegEULWH+5DjEdehqLUoHtiKSMXlalsRDj0KtqHv7fryMQ3l79G9+5yibxEVD7437iAWXP3qCE5eRq1qgp/YxQTD6y7DiC9YBo7NZKE5HAsOtr8VbRtVaHWRQ1yNAsYOz63/4n3gryM27E34Fe2ozH6tWNH8xgPJqI66arB4xh9QG/1oj06FnoJVcEGl2GIdu8zvLlVheILY/hevvo5wm6LfKEXzRrk6ZMSPuHg/vTsv/YLpod+j62CPLu/xrKtqIbliR7sViXEYxJVAG8Mz1gIYwmTfQ1QpXgSZhJCqo4iQe5EugwaHieiqFMV+JqHcc+cR4aAHnMj/ZTacc8DW/cAjvbtBIT/3mwIWBZe24Kcu58ZUurCNZuRQZFkJJr0/OHS4qdC3d2DCfMYzlJmexXqjoxg3rkYYBXzI29hq7ITbSP3LIsR9dEgOqtOQpvFpZZKKOqvEE3Ylz1RSluYwuX4EC6LIzuqxkN2WlzdCxXtXi5ibMa+g6Qyzh2SN7mREGS8Yuwi6bZJSKqDeOkLCxjrrIKiFOpDReOyBcEjX2DOBKN4MhISUf+tVnaDA6fQ0VSNCmUraruuunc69GIl1ZOKl5KvENnhg7ovhmlDTm3uM7T4ZS8LQopVLExdRTx+NXNkR7vyy1NYsPZVF9ow7Zbt3DzmRhp9JqQ0Dvz/Fx4BbWkcPbVboPibMJCw7DryRCZNSgH4Gz8wohOUQEaiTfrhepl9+w8gah5HGUJSGc/F1FhsPd/+6SjQ8oZKRiCuN+EswJAcjh0SqC71ZbSd+x8kZpfkegZL1bQg2wkpv6NVeVla9LahefhuhkTNNum5BQPzWa4LIqUAGqNGZIkid0bUEvXBjHBg6AnVwK/QefGfSDrJQBQ0cHYTP9Vq6J7M8ckPTyqd89Nr/EXBbM/Ml4Xc2HOkhpyjwF/YsAiYuojt2B/7HvZDqfx7lSGl0/ivv79d+DGdtSn64ZKhgrkQ7cXBzrP4cuYX92JKZbwIxxr5wFGvfcHL7CpoQbQTglVQyTXJYS549J0U7t/8C5p0PU3aYEEN1OJAawTRi19jNmk7+9ELydunaBA5Fi4ysrCRaS7CyfWc+uL1aSGlM5/g7x17UOgxnbVmV/+FQ/eFIwgKHVnQuSNPl9SmY9gnjE6yjrHwYSLrvGL7LAxd/heXzvaiq7UZodcMYxdq1zX+TEjWseVrRsCNgElG5Qh2fSm1vHMX8r6jLY6ia4dPP/JpuzSTcwfgWZPnou5ZIsfbp2UxsO26hMOt81/mCM61IGZp3nyUQ3YtOYfE2Kc42/s2wg1VqCCylehX5O3nuYAahGQ9msrokLzILM+6zc7KLlaxOPYOdoh+Vb6FSy4jEVkZ+T1p/7V53IzU6RZwW9uuuo5mqYz1mM89xmLM6QiumD4bJwC68Ugjjp6JYXhkFOPj4xj/ahDt4jewswcTTv+orHMjfzl4hySfL3x3IyNgJSOZ1VHBfaMfaTkqKsosx3cFV5SbXGRVZv2xF+m3QrsM2eIik0HcyyWHrdwTJO9P4Wr3ft26y7nA0uJq36GlcG84DB9Z99nqy/yRLqtiW+eoRemfa9HL9TxTv+cVzastFahQhdFF8YFh5f0HtMUbiOwulzpxa/eG0exTbDoiT1n1B3RUW4D/nXEsqO4+gZuLVqMRAI++QfdOHxTbztSQIOvcyB97JqTsI8pPNxoCtGgIq6L3b3j7ZeTdLyIjsQBNYP7HK+gIbimelLL+cD2EyllmBbcHXtOjVNRFp/I7miTnS6UaXWMWwwUPEfTbXnIsTyH+bgTvxqcsBGFURMTnWMQ8F2TjWMptsUeCkVGD04Aj16KX6znV7/FJ80rX8f0LPwoLyxJIyav/wtAgbaAiMc548j0G9m7xNESRSU4kpux4B2NOgpEU8JYrY2XHhCQBjm8xAk4ERPDPWMtuqEK5Hv/ObRrtLJDzbysZ0duwSMNQAil5LerZZMmjjDZ7AW/oPkgHEJ34WXKk+ATJn+9hwXScXMWD0eOGzuIIhm/LgnmmkExaTKS95DBIx77bER0iM2X3G7rnwqfdx2hXjYeZMpl9++DfH8Ntm89PLsKh5xYT52yYW5/ZyIj8n2Rzw1oo+7Vn/0Wx1B3Em0XaBifpPsbs8JtpHySJqb7eopbEzz89zIy/iWc5gu3DuC1LG5JaQdKYF0RgLktPEX7rzb2o2rWFd0jZh5afMgIAmWjr0Qlq30JUOHi6dCjW8/VcqGVbcIohJY/gqkM3MGNbWK1yGWa5zoCs0jKkdE977geb2nFSOJTqDpAn0H5wLwIvOVM9/ILbF97SSUlRK1F/6Bj6dKfWc4iebEdTMGjkr/GQnUyDaRdkda61BIy1KemlwUUzui3RezGWA83/pgfJlTrGOnVSep3kGOtHfWc/4haM0ibs9HwXwn3nbc+tiLuupWRE38o2R+g7js88+i+InHx+FH8jIucGMTQ2k975mv5GIqJGNZraT+jOv/G4GLMOHKytxEu2o0zhovUPXGh7WU8dogYacMjqAN1+AMFt/57JYWQSWBkqG/+Eft1R+j201gQQPHoaJxsqoFSG0TdIY+YxR425YcfeGBtTx+XAhv2Q3IDwnY2JAL1x5rRAsnqle3Y1v4UmY333H7jpGZqHGqFwMA4rKZnFEhUxzWXzLaOlQ+YMRNDa9Go6hI8IA9QYRkfvh7g0cS/z5my2sYqlO18iJgwRrKGD9DLnMar7D3nITsdwqXuYuPgBTraHjbA0Qt4yBGp/6w71Q+RFFlv6p8MBV8hmphEJpfthhP/pjn2JO863fFmdFlylc8Py3ITCeZGVjOjL9CIQyO+IWCarVGcmomi8h+agCAHlDML6GAuJzzEQaUOTbgEnQvu8gkZbmCaSz/jURCimv6K3g8bIUubDUftLUepHjEU7jPBT6XHsio1jbsXwQ7KNGe08HXPUmBtS7LP8Bj10SKQMczRim0T0zMuqxQEI/8kIMAKMACPACGRBwIOQyMOatrm01bIegwzio84G+Mw4VVla4UeMACPACDACjEAOBDwIiUrRdky2C6JdlOwZledPRoARYAQYAUYgPwRKICQNy+On8XroIPrGH+bXGn+LEWAEGAFGgBHwQKAEQvKocc1uOxStupIyhaU7X6C/87eoDZRBD1/SHsXnlJ8+9TMmh0+h7UAtAmoZAjW/RlvPRUw6Ih3buiAUtkM9aAsF057nFUGE2nowJFMQpxYxPX4JZ7sPo6mePNX9qGoIu5W7ZiMiTMc4hnoO44Cep0SE/hC5XxyKaIcy1GVim+05meuSDpCw8syrU0S+FbM/fMEIMAKMQHEIbGBCcpiibjuMc0NvI+ivRThyBrH4OZw52pjOT+9/E8N3p3HtyB74KkNo7x3AoJlDRIFaexqTkmiGGVPil1DffhoxkRdk4ARaarbqOe87rv5gs1pKW5SoqAgeQIdoQzc7/hj9x1/X5XB7P2tIJs6mw+mTXHqZc4geb0aVarGuoZw0H3Wi3me5T+PuMCe1ERZF8CXz4bIseXVMs9IC8q2QDPzJCDACjEAJCGxgQjJ6TW//23chWNfpSEJGXt1bsOfAftTtp4jNRlkK567IIgQvYqJ7L1TVne/GJCpBdLOZkJ1pQpKYsILkcLRD7ctSABg7HhuxCB8Nw5PdeZ/mAJlZSp8TVp55dciRsZB8K9QyfzICjAAjUBoCeRKSzMoujjg5xpUmQ2mlaZFVtmJ/fNoVKZkWcEV5GRGXrovCszvjYgHpvCw+OGNwpYUV+rN3sUPJRE8W96U5ZIze0e7JFn+LZJdFcTZ2PKZDnK0eyQ4pn+fUnldeHSLIAvKtGM26PrT7E/hE6phqtdT0ur6MifuWCAGu2vkGI8AIbEYE8iQk8jlyfJJj3PNEhhZZM+S6QxjSrciSSol4kYkoql2OZ0RUjh2NtWqPHYz1K9ZreTuUNKwcwbYPMZqYxZIZ2sVaOnMtryfP54SVV16dgvOtZNp1XqXGI2a059zOqo55pVQhMl547iKnDPw3I8AIbCwE8iSkUky7V7E08206fLkIYV7Av1szS64djwteWmS9PK+JkDzIU77AU14W50Lp/tseAl9sk5YxKwwb+o6htakRr5GhgmFQ4DxK0+7fwPtNIkyKUbfukd6GSPQTjM8uu/ovlzeDStbnhJVsR2Y5DsxJIF7knxGDrxgBRoARKBiBNSCkJYxHROpg92Ke615FZNxmNCDtHS2yT5WQyP/K46jSehRlPbakUCNKGSpDf8SZ2DBGxm7qJPxVvB07FHeQSb1PWhL3Ezfw2dlT6AjvQ1WFiEcmrO3c+qushOO54zOQy4EV1Z1/vhXpiKz5zVzziJ8X/ttjzBizZz0HZAvFGhCSrNmneC/HIouidkiUl8WuI8ouNR3zlWN35AYWbSmINTya6MFOacwqd61a8h6mrvYgJKI3O/Q5RBrOnVa6FnJW9tAx5cDKjPS7L4Zpm/xuGfkOI8AIMAJPGwEmJKkOCXhyewB7RdbEuigSntGYrcNBuyrZ8SZZ2Tkt8BYxFe9B5N0hTC07GYD8rOzh8rOSBhkluHRihpw5CAlF5FuxImC9Zh2SFQ2+ZgQYgXwQYELSCclJFEKhMoPhN0ROEpGY7Ws8kBgbaMl5/LTwyMCZdlXl2N39tSVRmYbUj8N4syaIXT5nOwbpyI4bl79Gt8gc6czo+XgK0TqRpKsBfZNWxf8qlibeQ92uKuyS+SkJKXMREorIt+Ixy9jKzgMYvs0IMAIeCKzCg5C8gqtexJgejt6jvjW9bchIzp6+BnR+ZMkbAsNx1nAktefwEIQzj6nLQxjsC6NS8aEy/B4G4/b+mf5GStrZtf1kVHeOjceiONn+G9QGqtE5tmD2WnvwJbqCIv3wTjQe/wCDIhdNXytq/LU42h9Bg0rtUM572gVtRU24y8hFY3e+PXLtJ4dhQwpz17rSOWwqatHS3Y/BwQH0todQubUJ/Z/2YZ+qIK0Hov545Cyx5IzJdOIhJqMH4Bc6rHzzrZiF+YIRYAQYgSIR0O54EVJGF2FXbMmOo4psvORichkzuhVa7K3KScsOhXYLNmMLSf/0vCxnEWltNizm/Kiq349wxymcvXTLkSJbJG4bRbS9MW2YoAZQe/AdxMb/hRXjaDCNJx3DiRA9n+iJtcxcNIoCNbAXBzv7MZKY9zDqWMHc+Hl06QYQPlRU7UNLZAgTcyumGXu6HeoPHSdasVCgyHZm+rgUkW+l5PHkCp4uAiuYHXkHtf5daB6gbLdFtpD6ASNdr8BfeRADk5Qxtci6uNhzRMC9ZmbWS8DUt9Oa6Lk+PKsurHgR0rNqkOtlBBiBNUFAu4PYvoq0taaHD16+cmScy90O5PnWwd9bDwjQyVfcOBlyGD9ReDI6dVpzQgIT0nqYJizDOkSArDPpbdH6qQe/bUFn/xVM3V9Zh8ILkVaxNPUxOpoPoefaXY+ddp6iaw8xdf4omlt6cW12vfY3z74U9DX3jsJ6YqQGavBa02FIs9gW1M7afzmrtS6dHjEhrf3AcIuMgBQBR7Bam2+WNTBv8KgjfqK0Nr65IRGgHYU8UengwCm0h3bqTu1qsAvX5jZOuCsmpA05IVnoFx0B7x9uEtPxMPyKCn/LZ5hzWu2/6MCtl/4vTSAW+QtGZkrZ2ZEOlnSyls5pC5joqYeqlKO67xbI5tbyjXV56T2v87HGfXZd8rCye3YNcs2MwEZCIOsP99E36N7py2IcspF6ukllnY0jVHJsxCyEJAx27w2j2afAFUZsHUOadV7zkd06HjkW7YVGIOsPF2TJmbaapO+SnkG3YNIeInHxFFrrK6EqflR337T4qBWRCFHESrx1Bf2dLQjpcRJVVFS9glCTiH/4KaYWHmFx5DDKLDovmyWVMZpa8i7GReJJPVmlsL4UCStDDutR6h9ZZ0p2CFTf0m1cj3Wb9Qn9Sih8DP0jCSzYfPgcdep6ihUsJD63J9ZsO4XhyZ9L030J2daAkEzrNI94mSgkySfhmZzFrcv96AyHUBMog6II694QmlojiF6cxALtyItKCuoVVNponAnJAII/GIF1hgCRjGxRBxGSEWw2nX7EasEUx42BJvjVStQfOopIpAvH4gnoGbSKSYSYuotrkVf1Y8KKmoPo6hNJIAcRi/4ZrfUvQVHSxPh45gaGRDJJ3cfOYUkl8E1OYaBxu+4vF2o/hYFBkQZE1PMnNFWVW3Z8hi9fnHQoMkISrg5X0KH734l+RhCNiboiOKSTcBkqm89icmnVGNkCEmuqdYjcnHf44RU4QZ45IWl4nIiiTpVbIGZ8GfNL8gkIPL9ApEGMp9U/8RyiJ1tRL8KJWYgvPT8LSQqaxi/rvGZCKnCS8dcZgTVCIOsPd/krRHb4XNE00mV8qDzwG4Tq3sbw7UXHolpMIsQlTPY1QJVGDqEjJfJvS4Mjl30V8yNvYauyBXXRqTQ5mlgauxeXdRXVLyGkx98jtn87FP8BRCccO5rUz5jQnazLEez6Eg/orV60R4ueNLFmCvcutWGrosDXPIx71nKmrHlePGNC0pL/xFDLDijqXnRPLDqEKjzJJ5K30Fe7RY4nYeYiJIt/pSkBhSuTp9CRzw2jMLXjmgdm5c/sgnVIzwxarngzIOD5wzV3OM5QUXQc4sP2qgYcGbnnICNd6YCRtp2uwLkmXgbRWXUS2txnaPGrHrEVjUgccYoAkq5JLjuRi2yhMnYvrggeVMZJSNnIzeiNGerqdcSmLSp/WvSUAN4YnnFjZOTmUkr0oXq6R3bW6P8fY6D3CJqCfigVr6Br5AfX8WLhST5TmLvUCr/0ZSETXcaaGLXgpKDGsMjnBj38DtHqMstO2bi/Bh9MSGsAMjexcRGgH67c7FuFv/EDy3FUup9UxnMxLTgRIkWSl70Je2NLctiPG6kuBWrwMM6N/h9ml3KZK3sREiWYtO/M7BJ5lCVC8sjNZe6gSn1Lf6o7JNKl0WcZAvXHcPHOL25CBeEsI34DIVeSz3zwtKOb7S/5+KdLZHv21LDPJpzHMyYkD2D4NiMgEKAfLhkqpD/LEKj9LToHvsRM8okLKCrjddyUiXxAC5vHp5kI0WNRd7Vsv0Fy2AkpvUO7+f4bqFSpXWHQ8Gu0Rv4TF8fvIuk6IvNon6JBZCUNci51kCkRklfZXM+tXU3dR8Ir8eelCGqUAMID1z2Sg36LGVO/Za3Ueu3sv4bUwne40L5HN/cOHvlCYvZfRJLPQvpsFa/ApKCiqOfc0B/yDskKL18zAusGgaw/XA8pc5Wh57ZdlzXpo3lNR3DOBdGjYcdtasdFSPr3niB5P4Gxzz5Eb8dBNFT5jSSa5Qh2XMGszTLOo/28FlAiJEdusVxlcz239lXfBRG5FvpZhci4NWq+tWK6lvdfW7yBiIjIr+xEm+tolspYj/mE8YjkHyX5LKTPJFqRSUGzzo1i5CB5SvzkHVKJAHLxzY1A1h+uR9dzlSncb4UWdY+Mw0XKYSsmshZPXUF3aLtkgaXF1aFD0u5iuHmbad1nq8/8g8pW2SLj5zwWelqL4lM9snP0H6tYvHkCu0XetN09mLDlNKN0NA4iNnGRXZBJfA26J3KRpChPx4KFJwXNOkefFvayLua4x4SUAyB+/GIjkPWH6wFNzjJFJEIkElN2vIOxRTKh9hDAuC2XQ8Py1BDejfQgPuW0CiPicxyvgUjFuSDTsZTMYs8QgowaHJmPNwchWQxUJMYZhSf5JBLzYUfXqCPrtGysvcZFfJes7Jxjma5HPjeMNpiQZGDzPUbg+SOQ9YfrIV7uMkUkQtTuY7SrJq2zaB/GbZneI7WCpOWoTS4HkY6TXERnDDNlxfmG7r3wmTnAspp9b8f+2Pd2E/Ncix49t5g4e8Cd/fYz3SGJpjWkpuNoFv5BTtItOMknYOKp7kH78PdYcunzNKSSK4ZFHxGY09IzW1LQNFzyuWFASdh76feyI17SU94hlQQfF960CHgEVx0am7EvrFYAbEkfKUliHNIyptl4AYkQk//AhbaX08E8Aw041NWbdmrVE0YeQHDbv2Nk8QkglX0Il6eEkykRkoqMc20ccTNgbDkySnqv4KKk2xKdX8XS5Fk0V5ZB0R2AnY6xTp2UUSelOHAl1nQkk6wMo2/QA0Mr9l7XJRFSPv0XDdNuRIU/dBznLIk+M46x+SX5FASXvP13tAlHYxE9o/53FgfoE2hvqsa21hHQ3jZDYHkmBZXOUZobDuyNsbGamXvB/LTuMyE9LSS5ns2FgEf6CbmBgNF1erO0hO0RVnneZYpIhKgt4s71v6K3I2wLHdQYfhu9H45i5rHmTrSmy0NHNxpScxO4GD2BdjMsjQJFTybpDPVD5OU0FHCaeQurswRG+o+BEk2qgVocaOtG7Pptx1u+vM4MRrQbs7eZeV7gNCuJkOSyUkQMmyQiikbPbxCsUKEojt1nQUk+07Vqeiim99BhjlEmMeiHo9aXogKTgkrnKM0NOfbWyBC2Pj+DP5iQngGoXCUjwAisEwRKIqR10ocXSAwmpBdosLmrjMALhwAT0oYaciakDTVcLCwjwAgwApsXASakzTu23DNGgBFgBDYUAkxIG2q4WFhGgBFgBDYvAkxIm3dsuWeMACPACGwoBJiQNtRwsbCMACPACGxeBJiQNu/Ycs8YAUaAEdhQCDAhbajhYmEZAUaAEdi8CDAhbd6x5Z4xAowAI7ChEPh/z9VL9rD0J/wAAAAASUVORK5CYII=)"
      ]
    },
    {
      "cell_type": "code",
      "metadata": {
        "colab": {
          "base_uri": "https://localhost:8080/"
        },
        "id": "aToaXMTDMNOQ",
        "outputId": "58d941ef-02ce-422d-d567-e42570e85c6e"
      },
      "source": [
        "f_measure = (2*p*r)/(p+r)\r\n",
        "print(f_measure)"
      ],
      "execution_count": 74,
      "outputs": [
        {
          "output_type": "stream",
          "text": [
            "0.09224598930481283\n"
          ],
          "name": "stdout"
        }
      ]
    }
  ]
}